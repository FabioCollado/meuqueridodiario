{
  "cells": [
    {
      "cell_type": "markdown",
      "metadata": {
        "id": "1OG5DT_dm6mk"
      },
      "source": [
        "# Projeto Final - Querido Diario\n",
        "\n",
        "Nome: Fabio Akahoshi Collado"
      ]
    },
    {
      "cell_type": "markdown",
      "metadata": {
        "id": "uhpAkifICdJo"
      },
      "source": [
        "# Extraindo embeddings"
      ]
    },
    {
      "cell_type": "markdown",
      "metadata": {
        "id": "-fssc-QOueb0"
      },
      "source": [
        "## Import"
      ]
    },
    {
      "cell_type": "code",
      "execution_count": 1,
      "metadata": {
        "colab": {
          "base_uri": "https://localhost:8080/"
        },
        "id": "1ozXD-xYCcrT",
        "outputId": "7110d83a-b286-49ae-b43c-9864dc41597c"
      },
      "outputs": [
        {
          "output_type": "stream",
          "name": "stdout",
          "text": [
            "Requirement already satisfied: pickle5 in /usr/local/lib/python3.7/dist-packages (0.0.12)\n",
            "Requirement already satisfied: transformers in /usr/local/lib/python3.7/dist-packages (4.12.5)\n",
            "Requirement already satisfied: tqdm>=4.27 in /usr/local/lib/python3.7/dist-packages (from transformers) (4.62.3)\n",
            "Requirement already satisfied: importlib-metadata in /usr/local/lib/python3.7/dist-packages (from transformers) (4.8.2)\n",
            "Requirement already satisfied: regex!=2019.12.17 in /usr/local/lib/python3.7/dist-packages (from transformers) (2019.12.20)\n",
            "Requirement already satisfied: numpy>=1.17 in /usr/local/lib/python3.7/dist-packages (from transformers) (1.19.5)\n",
            "Requirement already satisfied: requests in /usr/local/lib/python3.7/dist-packages (from transformers) (2.23.0)\n",
            "Requirement already satisfied: filelock in /usr/local/lib/python3.7/dist-packages (from transformers) (3.4.0)\n",
            "Requirement already satisfied: tokenizers<0.11,>=0.10.1 in /usr/local/lib/python3.7/dist-packages (from transformers) (0.10.3)\n",
            "Requirement already satisfied: pyyaml>=5.1 in /usr/local/lib/python3.7/dist-packages (from transformers) (6.0)\n",
            "Requirement already satisfied: packaging>=20.0 in /usr/local/lib/python3.7/dist-packages (from transformers) (21.3)\n",
            "Requirement already satisfied: huggingface-hub<1.0,>=0.1.0 in /usr/local/lib/python3.7/dist-packages (from transformers) (0.2.1)\n",
            "Requirement already satisfied: sacremoses in /usr/local/lib/python3.7/dist-packages (from transformers) (0.0.46)\n",
            "Requirement already satisfied: typing-extensions>=3.7.4.3 in /usr/local/lib/python3.7/dist-packages (from huggingface-hub<1.0,>=0.1.0->transformers) (3.10.0.2)\n",
            "Requirement already satisfied: pyparsing!=3.0.5,>=2.0.2 in /usr/local/lib/python3.7/dist-packages (from packaging>=20.0->transformers) (3.0.6)\n",
            "Requirement already satisfied: zipp>=0.5 in /usr/local/lib/python3.7/dist-packages (from importlib-metadata->transformers) (3.6.0)\n",
            "Requirement already satisfied: urllib3!=1.25.0,!=1.25.1,<1.26,>=1.21.1 in /usr/local/lib/python3.7/dist-packages (from requests->transformers) (1.24.3)\n",
            "Requirement already satisfied: chardet<4,>=3.0.2 in /usr/local/lib/python3.7/dist-packages (from requests->transformers) (3.0.4)\n",
            "Requirement already satisfied: idna<3,>=2.5 in /usr/local/lib/python3.7/dist-packages (from requests->transformers) (2.10)\n",
            "Requirement already satisfied: certifi>=2017.4.17 in /usr/local/lib/python3.7/dist-packages (from requests->transformers) (2021.10.8)\n",
            "Requirement already satisfied: six in /usr/local/lib/python3.7/dist-packages (from sacremoses->transformers) (1.15.0)\n",
            "Requirement already satisfied: click in /usr/local/lib/python3.7/dist-packages (from sacremoses->transformers) (7.1.2)\n",
            "Requirement already satisfied: joblib in /usr/local/lib/python3.7/dist-packages (from sacremoses->transformers) (1.1.0)\n",
            "Drive already mounted at /content/drive; to attempt to forcibly remount, call drive.mount(\"/content/drive\", force_remount=True).\n",
            "/content/drive/MyDrive/Mestrado Unicamp/SegundoSemestre/IA376/ProjetoFinal\n",
            "Tesla P100-PCIE-16GB\n"
          ]
        },
        {
          "output_type": "execute_result",
          "data": {
            "text/plain": [
              "<torch._C.Generator at 0x7fa67d872d30>"
            ]
          },
          "metadata": {},
          "execution_count": 1
        }
      ],
      "source": [
        "import torch\n",
        "from torch import nn, Tensor\n",
        "from torch.utils.data import Dataset, DataLoader, dataloader\n",
        "#import torch.nn.functional as F\n",
        "\n",
        "from google.colab import drive\n",
        "!pip3 install pickle5\n",
        "import pickle5 as pickle\n",
        "\n",
        "!pip install transformers\n",
        "from transformers import AutoTokenizer, BertPreTrainedModel, BertModel\n",
        "import numpy as np\n",
        "import pandas as pd\n",
        "import sklearn\n",
        "from sklearn.metrics import pairwise_distances\n",
        "from sklearn.decomposition import PCA\n",
        "from tqdm.notebook import tqdm\n",
        "import os\n",
        "import re\n",
        "\n",
        "drive.mount('/content/drive')\n",
        "%cd /content/drive/MyDrive/Mestrado Unicamp/SegundoSemestre/IA376/ProjetoFinal/\n",
        "from preprocess import preprocess2\n",
        "params = {\n",
        "    'model_name': 'neuralmind/bert-base-portuguese-cased',\n",
        "    'batch_size': 16,\n",
        "    'batch_accum': 5,\n",
        "    'eval_batch_size': 16,\n",
        "    'n_epochs': 3,\n",
        "    'max_len': 300,\n",
        "    'learning_rate' : 1e-5,\n",
        "    'num_workers' : 2,\n",
        "    'embeddings_file' : 'embeddings'\n",
        "}\n",
        "if torch.cuda.is_available(): \n",
        "    device = torch.device(\"cuda:0\")\n",
        "    print(torch.cuda.get_device_name(\"cuda:0\"))\n",
        "else: \n",
        "    print('CPU')\n",
        "    device = torch.device(\"cpu\" )\n",
        "\n",
        "torch.manual_seed(123)"
      ]
    },
    {
      "cell_type": "code",
      "execution_count": 2,
      "metadata": {
        "colab": {
          "base_uri": "https://localhost:8080/"
        },
        "id": "HO2tRvjubthV",
        "outputId": "f372f4da-44d0-4a5c-d309-6822a5f8694d"
      },
      "outputs": [
        {
          "output_type": "stream",
          "name": "stdout",
          "text": [
            "/content/drive/MyDrive/Mestrado Unicamp/SegundoSemestre/IA376/ProjetoFinal\n"
          ]
        }
      ],
      "source": [
        "!pwd"
      ]
    },
    {
      "cell_type": "markdown",
      "metadata": {
        "id": "CXFdJz2KVeQw"
      },
      "source": [
        "## Preparando Dados"
      ]
    },
    {
      "cell_type": "code",
      "execution_count": 3,
      "metadata": {
        "colab": {
          "base_uri": "https://localhost:8080/"
        },
        "id": "1-GcnnW9w9CC",
        "outputId": "ad33706f-4837-4d70-eeaa-cd095e0fecd7"
      },
      "outputs": [
        {
          "output_type": "execute_result",
          "data": {
            "text/plain": [
              "174"
            ]
          },
          "metadata": {},
          "execution_count": 3
        }
      ],
      "source": [
        "def save_obj(obj, name):\n",
        "    with open(name + '.pkl', 'wb') as f:\n",
        "        pickle.dump(obj, f, pickle.HIGHEST_PROTOCOL)\n",
        "        \n",
        "def load_obj(name):\n",
        "    with open(name + '.pkl', 'rb') as f:\n",
        "        return pickle.load(f)\n",
        "\n",
        "querido_diario_data = load_obj('queridodiario2')\n",
        "len(querido_diario_data['data'])"
      ]
    },
    {
      "cell_type": "markdown",
      "metadata": {
        "id": "JmvQYRMnt92I"
      },
      "source": [
        "## BERT Embeddings"
      ]
    },
    {
      "cell_type": "markdown",
      "metadata": {
        "id": "gHMi_Kq65fPM"
      },
      "source": [
        "### Model\n",
        "\n"
      ]
    },
    {
      "cell_type": "code",
      "execution_count": 4,
      "metadata": {
        "colab": {
          "base_uri": "https://localhost:8080/"
        },
        "id": "Z6FbTKu8D-uS",
        "outputId": "e0536ac0-4a95-43b3-a17e-ef6fd72c42cf"
      },
      "outputs": [
        {
          "output_type": "stream",
          "name": "stderr",
          "text": [
            "Some weights of the model checkpoint at neuralmind/bert-base-portuguese-cased were not used when initializing BertEmbeddings: ['cls.predictions.transform.dense.bias', 'cls.seq_relationship.weight', 'cls.seq_relationship.bias', 'cls.predictions.decoder.weight', 'cls.predictions.transform.dense.weight', 'cls.predictions.transform.LayerNorm.weight', 'cls.predictions.bias', 'cls.predictions.transform.LayerNorm.bias']\n",
            "- This IS expected if you are initializing BertEmbeddings from the checkpoint of a model trained on another task or with another architecture (e.g. initializing a BertForSequenceClassification model from a BertForPreTraining model).\n",
            "- This IS NOT expected if you are initializing BertEmbeddings from the checkpoint of a model that you expect to be exactly identical (initializing a BertForSequenceClassification model from a BertForSequenceClassification model).\n"
          ]
        }
      ],
      "source": [
        "class BertEmbeddings(BertPreTrainedModel):\n",
        "    def __init__(self, config):\n",
        "        super().__init__(config)\n",
        "        self.bert = BertModel(config)\n",
        "        self.init_weights()\n",
        "\n",
        "    def forward(self, input_ids=None, attention_mask=None):\n",
        "        outputs = self.bert(input_ids = input_ids, \n",
        "                            attention_mask = attention_mask)\n",
        "        pooled_outputs = outputs.pooler_output           #[batch, 768]\n",
        "        # outputs[1][0] == outputs.pooler_output == outputs[0]\n",
        "        return pooled_outputs\n",
        "model = BertEmbeddings.from_pretrained(params['model_name'])"
      ]
    },
    {
      "cell_type": "markdown",
      "metadata": {
        "id": "_R3F-dHUr5VU"
      },
      "source": [
        "### Dataset"
      ]
    },
    {
      "cell_type": "code",
      "execution_count": 5,
      "metadata": {
        "colab": {
          "base_uri": "https://localhost:8080/"
        },
        "id": "nD4MIPAHuiD6",
        "outputId": "612ddac4-eb0b-47df-dfb2-f5a115938e25"
      },
      "outputs": [
        {
          "output_type": "stream",
          "name": "stdout",
          "text": [
            "(tensor([[  101,   254,  1052,  1621,  5101,  7485, 11367,  3066,   586,  1621,\n",
            "          3985,   493,   119,   102],\n",
            "        [  101,   622,  5238, 11367,  3066,   586,  1621,  3985,   493,   119,\n",
            "           102,     0,     0,     0]]), tensor([[1, 1, 1, 1, 1, 1, 1, 1, 1, 1, 1, 1, 1, 1],\n",
            "        [1, 1, 1, 1, 1, 1, 1, 1, 1, 1, 1, 0, 0, 0]]))\n",
            "Paragraph 1 = [CLS] i am the first example of the batch. [SEP]\n",
            "Paragraph 2 = [CLS] another example of the batch. [SEP] [PAD] [PAD] [PAD]\n",
            "pooled_outputs = tensor([[ 0.0326, -0.1599,  0.0082,  ..., -0.0382, -0.0083,  0.0571],\n",
            "        [ 0.0846, -0.1449, -0.0224,  ..., -0.0045,  0.0101,  0.0125]],\n",
            "       grad_fn=<TanhBackward0>)\n",
            "pooled_outputs size = 768\n"
          ]
        }
      ],
      "source": [
        "tokenizer = AutoTokenizer.from_pretrained(params['model_name'])\n",
        "def collate_function(params):\n",
        "    def f(data):\n",
        "        \"\"\"\n",
        "        data -> list of string. Each string is a paragraph\n",
        "        \"\"\"\n",
        "        processed_paragraphs = [preprocess2(paragraph) for paragraph in data]\n",
        "        enc = tokenizer(processed_paragraphs,\n",
        "                        max_length=params['max_len'],\n",
        "                        padding='longest',\n",
        "                        return_tensors='pt',\n",
        "                        truncation=True)\n",
        "        return enc.input_ids, enc.attention_mask\n",
        "    return f\n",
        "\n",
        "collate_fn = collate_function(params)\n",
        "example = collate_fn([('I am the first example of the batch.'), ('Another example of the batch.')])\n",
        "print(example)\n",
        "print('Paragraph 1 =', tokenizer.decode(example[0][0]))\n",
        "print('Paragraph 2 =', tokenizer.decode(example[0][1]))\n",
        "pooled_outputs  = model(*example)\n",
        "print('pooled_outputs =', pooled_outputs)\n",
        "print('pooled_outputs size =', len(pooled_outputs[0]))"
      ]
    },
    {
      "cell_type": "code",
      "execution_count": 6,
      "metadata": {
        "id": "RWij2y0x68CK"
      },
      "outputs": [],
      "source": [
        "class QueridoDiario_Dataset(Dataset):\n",
        "    def __init__(self, x:tuple):\n",
        "        self.x = x\n",
        "        #self.y = y\n",
        "\n",
        "    def __len__(self):\n",
        "        return len(self.x)\n",
        "\n",
        "    def __getitem__(self, idx):\n",
        "        return self.x[idx]"
      ]
    },
    {
      "cell_type": "markdown",
      "metadata": {
        "id": "lV_DykfxtauB"
      },
      "source": [
        "### Get_Embeddings class"
      ]
    },
    {
      "cell_type": "code",
      "execution_count": 7,
      "metadata": {
        "id": "gJzOM941lvQT"
      },
      "outputs": [],
      "source": [
        "def join_lists(x):\n",
        "    return [inner for outer in x for inner in outer]\n",
        "\n",
        "class Get_Embeddings():\n",
        "    def __init__(self, model, params:dict, device:torch.device):\n",
        "        self.model = model.to(device)\n",
        "        self.device = device\n",
        "        self.params = params\n",
        "\n",
        "    def get_model(self):\n",
        "        return self.model\n",
        "\n",
        "    def model_output_list(self, loader:dataloader.DataLoader):\n",
        "        diario_embeddings = []\n",
        "        batch_iter = tqdm(loader)\n",
        "        \n",
        "        for x, mask in batch_iter:\n",
        "            with torch.no_grad():\n",
        "                x = x.to(self.device) #[32, 11670]\n",
        "                mask = mask.to(self.device) #[32, 1]\n",
        "                pooled_outputs = self.model(input_ids = x, \n",
        "                                            attention_mask = mask)\n",
        "                diario_embeddings = diario_embeddings + \\\n",
        "                                    list(pooled_outputs.cpu().numpy())\n",
        "        return diario_embeddings\n",
        "    \n",
        "    def embedded_paragraphs(self, data:list):\n",
        "        # data is a list of strings\n",
        "        queridodiario_dataset = QueridoDiario_Dataset(data)\n",
        "        loader = DataLoader(queridodiario_dataset,\n",
        "                            shuffle = False,\n",
        "                            batch_size = self.params['batch_size'],\n",
        "                            collate_fn = collate_fn,\n",
        "                            num_workers = self.params['num_workers'])\n",
        "        return self.model_output_list(loader)\n",
        "    \n",
        "    def get_embeddings(self, \n",
        "                       data: list, \n",
        "                       reset_embeddings: bool = False, \n",
        "                       save_load: bool = True):\n",
        "        if reset_embeddings or save_load == False:\n",
        "            embeddings = []\n",
        "        else:\n",
        "            embeddings = load_obj(self.params['embeddings_file'])\n",
        "\n",
        "        for i in range(len(embeddings), len(data)):\n",
        "            print(i)\n",
        "            embeddings.append(self.embedded_paragraphs(data[i]))\n",
        "            if save_load: save_obj(embeddings, 'embeddings_file')\n",
        "\n",
        "        for e, d in zip(embeddings, data):\n",
        "            assert len(e) == len(d)\n",
        "        return embeddings"
      ]
    },
    {
      "cell_type": "markdown",
      "metadata": {
        "id": "JKcNQr5St0Gm"
      },
      "source": [
        "### Creating Embeddings Vector"
      ]
    },
    {
      "cell_type": "code",
      "execution_count": 8,
      "metadata": {
        "id": "iRxeCIDasCXj"
      },
      "outputs": [],
      "source": [
        "get_embeddings = Get_Embeddings(model = model, \n",
        "                                params = params, \n",
        "                                device = device)\n",
        "embeddings = get_embeddings.get_embeddings(data = querido_diario_data['data'], \n",
        "                                           reset_embeddings = False)"
      ]
    },
    {
      "cell_type": "code",
      "source": [
        "len(embeddings[1][3])"
      ],
      "metadata": {
        "colab": {
          "base_uri": "https://localhost:8080/"
        },
        "id": "St1tA2PbTRjn",
        "outputId": "ae6fd879-12d1-4a19-8250-0012fe4b085f"
      },
      "execution_count": 25,
      "outputs": [
        {
          "output_type": "execute_result",
          "data": {
            "text/plain": [
              "768"
            ]
          },
          "metadata": {},
          "execution_count": 25
        }
      ]
    },
    {
      "cell_type": "markdown",
      "metadata": {
        "id": "40p4QqQTtzcH"
      },
      "source": [
        "## Clusterer"
      ]
    },
    {
      "cell_type": "code",
      "execution_count": 9,
      "metadata": {
        "id": "zOEE-sD32PUv"
      },
      "outputs": [],
      "source": [
        "def compute_distance_matrix(embeddings:list, \n",
        "                            metric:str = 'cosine', \n",
        "                            pca_components:int = 0):\n",
        "    if pca_components > 0:\n",
        "        pca = PCA(n_components = pca_components)\n",
        "        emb_pca = pca.fit_transform(embeddings)\n",
        "        print(\"Explained Variance =\", pca.explained_variance_ratio_.sum())\n",
        "        return np.tril(pairwise_distances(X = emb_pca, metric = metric))\n",
        "    return np.tril(pairwise_distances(X = embeddings, metric = metric))\n",
        "\n",
        "def mean_distance(start:int, end:int, distance_matrix):\n",
        "    \"\"\"\n",
        "    computes the mean of the distances of all possible pairs in the block\n",
        "    includes start, excludes end\n",
        "    \"\"\"\n",
        "    s = end - start\n",
        "    if s == 1: return distance_matrix[start: end, start: end].sum()\n",
        "    return distance_matrix[start: end, start: end].sum() / ((s**2 - s) / 2)\n",
        "\n",
        "def sum_of_mean_distances(start:int, end:int, \n",
        "                          distance_matrix, border_index:int):\n",
        "    \n",
        "    dist_sum = mean_distance(start, border_index, distance_matrix)\n",
        "    dist_sum += mean_distance(border_index, end, distance_matrix)\n",
        "    #print('start =', start, '. end =', end, '. border =', border_index, ' sum =', dist_sum)\n",
        "    return dist_sum\n",
        "\n",
        "def divide_in_two_parts(start:int, end:int, distance_matrix):\n",
        "    assert distance_matrix.shape[0] >= end\n",
        "    assert start >= 0\n",
        "    assert end - start >= 3\n",
        "    margin = 2\n",
        "    if end - start <= 5: margin = 1\n",
        "    smallest_distances = -1\n",
        "    for i in range(start + margin, end - margin):\n",
        "        distances = sum_of_mean_distances(start, end, distance_matrix, i)\n",
        "        #print(i, new_mean, mean)\n",
        "        if smallest_distances == -1 or distances < smallest_distances:\n",
        "            smallest_distances = distances\n",
        "            new_border = i\n",
        "    return new_border\n",
        "\n",
        "def divide_in_sections2(start, end, distance_matrix, cuts = 20, min_block = 2):\n",
        "    \"\"\"\n",
        "    divides the text cutting the part with the highest mean distance\n",
        "    \"\"\"\n",
        "    \n",
        "    borders_list = [start, end]\n",
        "    for i in range(cuts):\n",
        "        block_to_cut = 0\n",
        "        largest_mean = 0\n",
        "        for j in range(len(borders_list) - 1):\n",
        "          \n",
        "            if borders_list[j+1] - borders_list[j] > min_block:\n",
        "                new_mean = mean_distance(borders_list[j], \n",
        "                                         borders_list[j+1], \n",
        "                                         distance_matrix)\n",
        "                #print('new_mean =', new_mean, ' - largest_mean =', largest_mean, ' - j =', j, ' - block_to_cut =', block_to_cut)\n",
        "                if new_mean > largest_mean:\n",
        "                    largest_mean = new_mean\n",
        "                    block_to_cut = j\n",
        "        \n",
        "        new_border = divide_in_two_parts(borders_list[block_to_cut],\n",
        "                                         borders_list[block_to_cut+1],\n",
        "                                         distance_matrix)\n",
        "        borders_list = borders_list[:block_to_cut+1]\\\n",
        "                       + [new_border]\\\n",
        "                       + borders_list[block_to_cut+1:]\n",
        "        #print(borders_list)\n",
        "    return borders_list\n",
        "\n",
        "def divide_in_sections(start, end, distance_matrix, max_size = 20):\n",
        "    \"\"\"\n",
        "    divides the text cutting the part with size greater than max_size\n",
        "    \"\"\"\n",
        "    if end - start <= max_size:\n",
        "        return []\n",
        "    d = divide_in_two_parts(start, end, distance_matrix)\n",
        "    return divide_in_sections(start+2, d, distance_matrix, max_size) + [d] + divide_in_sections(d, end-2, distance_matrix, max_size)\n",
        "\n",
        "def sections_with_words(paragraphs, \n",
        "                        divisions, \n",
        "                        key_words: list, \n",
        "                        threshold: float,\n",
        "                        verbose: bool = True):\n",
        "    #highest_freq = 0\n",
        "    end = 0\n",
        "    start = divisions[-1]\n",
        "    best_result = 0\n",
        "    for i in range(len(divisions)-1):\n",
        "        count = 0\n",
        "        for j in range(divisions[i], divisions[i+1]):\n",
        "            count += len(re.findall('|'.join(key_words), \n",
        "                                    paragraphs[j], \n",
        "                                    re.IGNORECASE))\n",
        "        freq = count/(divisions[i+1] - divisions[i])\n",
        "        #if freq >= highest_freq:\n",
        "        #    highest_freq = freq\n",
        "        #    best_result = [divisions[i], divisions[i+1]]\n",
        "        if freq > threshold:\n",
        "            start = min(start, divisions[i])\n",
        "            end = max(end, divisions[i+1])\n",
        "        if count > 0 and verbose: \n",
        "            print('count =', count, ' - start/end =', divisions[i], divisions[i+1], ' - freq =', freq)\n",
        "    return [start, end]\n",
        "\n",
        "def find_secao_de_licitacoes(file_name:str, \n",
        "                             data: dict, \n",
        "                             embeddings: list,\n",
        "                             key_words: list, \n",
        "                             threshold: float,\n",
        "                             cuts: int,\n",
        "                             metric: str = 'cosine',\n",
        "                             verbose: bool = True,\n",
        "                             pca_components: int = 15):\n",
        "    doc = data['file'].index(file_name)\n",
        "    print('file', data['file'][doc])\n",
        "    distance_matrix = compute_distance_matrix(embeddings = embeddings[doc],\n",
        "                                          pca_components = pca_components,\n",
        "                                          metric = metric)\n",
        "    number_of_paragraphs = distance_matrix.shape[0]\n",
        "    if verbose: print('Number of Paragraphs:', number_of_paragraphs)\n",
        "    borders_list = divide_in_sections2(0, \n",
        "                                      distance_matrix.shape[0], \n",
        "                                      distance_matrix, \n",
        "                                      cuts = cuts)\n",
        "    if verbose: print(borders_list)\n",
        "    secao_de_licitacoes = sections_with_words(querido_diario_data['data'][doc], \n",
        "                          borders_list, \n",
        "                          key_words = key_words, \n",
        "                          threshold = threshold,\n",
        "                          verbose = verbose)\n",
        "    return secao_de_licitacoes"
      ]
    },
    {
      "cell_type": "markdown",
      "metadata": {
        "id": "9tcg5zJXxdJM"
      },
      "source": [
        "### Testing the distance matrix"
      ]
    },
    {
      "cell_type": "code",
      "execution_count": 26,
      "metadata": {
        "colab": {
          "base_uri": "https://localhost:8080/",
          "height": 448,
          "referenced_widgets": [
            "510d12496a3e4ee0ad2efdb682ff3636",
            "f15283dc92764dc69c065c5ca8d96b3b",
            "016c9aef17db48dd85fd908ffae8c310",
            "f332133c5d0d4345a33fc56034d5b88c",
            "124a9af72944457bb01f25ed03a57988",
            "e5d8b5e5a6bb4c37bbff19e10e218338",
            "ebfbec1e1d674cc7b0438bb39ad4ce04",
            "97a044d494ba41978ba05a5c293d79be",
            "ad36b1ff79b94547a3767b5703733c3e",
            "a1bfedc03e9640d6b33c1de3ae548998",
            "b4f667e6ece84d03bb8b2e60b60b5d75"
          ]
        },
        "id": "pJ6Lt6r4EgMr",
        "outputId": "4566cbce-e345-43ea-cc6b-32d2488542cc"
      },
      "outputs": [
        {
          "output_type": "stream",
          "name": "stdout",
          "text": [
            "0\n"
          ]
        },
        {
          "output_type": "display_data",
          "data": {
            "application/vnd.jupyter.widget-view+json": {
              "model_id": "510d12496a3e4ee0ad2efdb682ff3636",
              "version_minor": 0,
              "version_major": 2
            },
            "text/plain": [
              "  0%|          | 0/1 [00:00<?, ?it/s]"
            ]
          },
          "metadata": {}
        },
        {
          "output_type": "stream",
          "name": "stdout",
          "text": [
            "              0             1             2         3             4  \\\n",
            "0  1.192093e-07  0.000000e+00  0.000000e+00  0.000000  0.000000e+00   \n",
            "1  5.514550e-02  2.384186e-07  0.000000e+00  0.000000  0.000000e+00   \n",
            "2  8.601749e-02  6.294936e-02  5.960464e-08  0.000000  0.000000e+00   \n",
            "3  1.314989e-01  7.744926e-02  4.833144e-02  0.000000  0.000000e+00   \n",
            "4  1.328302e-01  9.885746e-02  1.006019e-01  0.081372  2.384186e-07   \n",
            "5  9.457111e-02  8.262467e-02  8.497560e-02  0.093607  7.880962e-02   \n",
            "\n",
            "              5  \n",
            "0  0.000000e+00  \n",
            "1  0.000000e+00  \n",
            "2  0.000000e+00  \n",
            "3  0.000000e+00  \n",
            "4  0.000000e+00  \n",
            "5  1.192093e-07  \n",
            "\n",
            "0.05397202571233114\n",
            "0.1039156198501587\n",
            "0.11033568779627481\n",
            "0.10316872596740723\n",
            "0.08750550746917725\n",
            "0.087309463818868\n"
          ]
        }
      ],
      "source": [
        "data_test = [[\n",
        "              'pratiquei esporte no fim de semana', \n",
        "              'joguei futebol domingo', \n",
        "              'a inflação está alta', \n",
        "              'o preço de tudo aumentou', \n",
        "              'foi a melhor feijoada que já comi', \n",
        "              'ficamos satisfeitos com a qualidade da comida']]\n",
        "embeddings_test = get_embeddings.get_embeddings(data = data_test,\n",
        "                                                save_load = False)\n",
        "distance_matrix_test = compute_distance_matrix(embeddings = embeddings_test[0],\n",
        "                                               pca_components = 0)\n",
        "d = pd.DataFrame(distance_matrix_test)\n",
        "pd.set_option('display.max_columns', None)  \n",
        "print(d)\n",
        "print()\n",
        "for i in range(1,7):\n",
        "    print(sum_of_mean_distances(0, 7, distance_matrix_test, i))"
      ]
    },
    {
      "cell_type": "markdown",
      "source": [
        "# Executing code to find purchase section"
      ],
      "metadata": {
        "id": "mp4tOhb9GLP2"
      }
    },
    {
      "cell_type": "code",
      "execution_count": 27,
      "metadata": {
        "colab": {
          "base_uri": "https://localhost:8080/"
        },
        "id": "Bf5SnSNF1hUm",
        "outputId": "c9a03cfe-0a8f-47f6-d9f5-4b01e3c322bf"
      },
      "outputs": [
        {
          "output_type": "stream",
          "name": "stdout",
          "text": [
            "file 1f852e8033f1e5ee1531a978ca523daa184adca0.pdf\n",
            "Explained Variance = 0.9341412057338956\n",
            "Seção de Licitações encontra-se em: [460, 629]\n",
            "label = [462, 564]\n",
            "border_diff = 67\n",
            "------------------------\n",
            "file 7f0b35bea0d05de832812facded5dc11f00ce57b.pdf\n",
            "Explained Variance = 0.9326408564259889\n",
            "Seção de Licitações encontra-se em: [166, 245]\n",
            "label = [172, 243]\n",
            "border_diff = 8\n",
            "------------------------\n",
            "file 7443db4e49488ead67c5c8d7f97c5907de55fda5.pdf\n",
            "Explained Variance = 0.9342390746845142\n",
            "Seção de Licitações encontra-se em: [176, 255]\n",
            "label = [179, 217]\n",
            "border_diff = 41\n",
            "------------------------\n",
            "file 74ba1ebfce5f8fa6520eb96128cf06176a1dd49e.pdf\n",
            "Explained Variance = 0.9321620232280311\n",
            "Seção de Licitações encontra-se em: [424, 479]\n",
            "label = [429, 486]\n",
            "border_diff = 12\n",
            "------------------------\n",
            "file 83b87284f80d4ab75933239f68caad3e57f26751.pdf\n",
            "Explained Variance = 0.9331224746078024\n",
            "Seção de Licitações encontra-se em: [342, 455]\n",
            "label = [345, 436]\n",
            "border_diff = 22\n",
            "------------------------\n",
            "border_diff_mean = 30.0\n"
          ]
        }
      ],
      "source": [
        "validation_dataset = load_obj('validation_dataset')\n",
        "test_dataset = load_obj('test_dataset')\n",
        "key_words = [' licitaç', 'pregão eletrônico', '10.522', 'aviso de resultado']\n",
        "def calculate_mean(dataset, embeddings, key_words):\n",
        "    border_diff_sum = 0\n",
        "    for file_name, label in dataset:\n",
        "        secao_de_licitacoes = find_secao_de_licitacoes(file_name = file_name, \n",
        "                                    data = querido_diario_data,\n",
        "                                    embeddings = embeddings,\n",
        "                                    key_words = key_words, \n",
        "                                    threshold = 0.2,\n",
        "                                    cuts = 45,\n",
        "                                    metric = 'cosine',\n",
        "                                    verbose = False,\n",
        "                                    pca_components = 15) #'euclidean'\n",
        "        print('Seção de Licitações encontra-se em:', secao_de_licitacoes)\n",
        "        print('label =', label)\n",
        "        border_diff = abs(secao_de_licitacoes[0] - label[0])\\\n",
        "                      + abs(secao_de_licitacoes[1] - label[1])\n",
        "        print('border_diff =', border_diff)\n",
        "        border_diff_sum += border_diff\n",
        "        print('------------------------')\n",
        "    border_diff_mean = border_diff_sum/len(dataset)\n",
        "    print('border_diff_mean =', border_diff_mean)\n",
        "calculate_mean(validation_dataset, embeddings, key_words)"
      ]
    },
    {
      "cell_type": "markdown",
      "source": [
        "Evaluating"
      ],
      "metadata": {
        "id": "h_LNm3JHGh5Q"
      }
    },
    {
      "cell_type": "code",
      "source": [
        "calculate_mean(test_dataset, embeddings, key_words)"
      ],
      "metadata": {
        "colab": {
          "base_uri": "https://localhost:8080/"
        },
        "id": "Q8po4Rz_GiLa",
        "outputId": "d28a19ea-f1e0-47b4-968c-117ebf44bf3f"
      },
      "execution_count": 12,
      "outputs": [
        {
          "output_type": "stream",
          "name": "stdout",
          "text": [
            "file 2728b7301c46f5495def2225383e971d7f662fda.pdf\n",
            "Explained Variance = 0.9611933058611252\n",
            "Seção de Licitações encontra-se em: [209, 239]\n",
            "label = [209, 233]\n",
            "border_diff = 6\n",
            "------------------------\n",
            "file 31cd6b3a89dce330d2ccd510c29348175ad335ae.pdf\n",
            "Explained Variance = 0.9405912218682592\n",
            "Seção de Licitações encontra-se em: [271, 288]\n",
            "label = [266, 291]\n",
            "border_diff = 8\n",
            "------------------------\n",
            "file 8563fade5dfbf323cd3a4abb83d5ef2743759abd.pdf\n",
            "Explained Variance = 0.955348995423295\n",
            "Seção de Licitações encontra-se em: [145, 203]\n",
            "label = [178, 198]\n",
            "border_diff = 38\n",
            "------------------------\n",
            "file e936c0cf48524e5babc5ea0fccbbac1f01a469bd.pdf\n",
            "Explained Variance = 0.9249727654002945\n",
            "Seção de Licitações encontra-se em: [266, 386]\n",
            "label = [271, 383]\n",
            "border_diff = 8\n",
            "------------------------\n",
            "file b4d5ed20af1b33e4fcef9b164733d9690c3a7edd.pdf\n",
            "Explained Variance = 0.939853716566477\n",
            "Seção de Licitações encontra-se em: [335, 484]\n",
            "label = [366, 425]\n",
            "border_diff = 90\n",
            "------------------------\n",
            "border_diff_mean = 30.0\n"
          ]
        }
      ]
    },
    {
      "cell_type": "markdown",
      "source": [
        "# Paragraphs for visualization"
      ],
      "metadata": {
        "id": "O1xNREGNGHC_"
      }
    },
    {
      "cell_type": "code",
      "execution_count": 14,
      "metadata": {
        "colab": {
          "base_uri": "https://localhost:8080/"
        },
        "id": "DAOB_D_IMNad",
        "outputId": "1f281ec7-b68a-4d49-c26d-68b859522ea8"
      },
      "outputs": [
        {
          "output_type": "stream",
          "name": "stdout",
          "text": [
            "0 DIÁRIO OFICIAL INFORMA:POR UM ERRO DE IMPRESSÃO NA EDIÇÃO Nº 4778, DE 13 DE JANEIRO DE 2010, DEVE-SE DESCONSIDERAR A página Nº 05, POR CONTER ERROS. (MATÉRIAS RELATIVAS A OUTRO DIÁRIO).\n",
            "1 A PÁGINA CORRETA PODE SER ACESSADA NO SITE: www.goiânia.go.gov.br, E SERÁ REPUBLICADA NO DIÁRIO OFICIAL DE Nº 4.862 DE 17 DE MAIO DE 2010.\n",
            "2 CÂMARA MUNICIPAL DE GOIÂNIALEI Nº 8.896 DE 07 DE ABRIL DE 2010INCLUI NO CALENDÁRIO DE EVENTOS CULTURAIS DE GOIÂNIA O LIQUIDA GOIÂNIA.\n",
            "3 A CÂMARA MUNICIPAL DE GOIÂNIA APROVA E EU PROMULGO A SEGUINTE LEI: artigo 1ºInclui no Calendário de Eventos Culturais de Goiânia o Liquida Goiânia entre os dias vinte de agosto e dez de setembro. artigo 2ºEsta Lei entra em vigor na data da sua publicação. artigo 3ºRevogam-se as disposições em contrário.\n",
            "4 GABINETE DO PRESIDENTE DA CÂMARA MUNICIPAL DE GOIÂNIA, aos sete dias do mês de abril do ano de dois mil e dez (07.04.2.010).\n",
            "5 FRANCISCO VALE JÚNIORPRESIDENTE Diário Oficial MUNICÍPIO DE GOIÂNIA2010N° 4.861GOIÂNIA, 14 DE MAIOSEXTA-FEIRALEIDECRETO ORÇAMENTÁRIODECRETO LEGISLATIVOPORTARIADESPACHOEXTRATOERRATAEXTRATORESOLUÇÃO TERMO DE HOMOLOGAÇÃO NOTIFICAÇÃO RESULTADOCOMUNICADO EDITAL DE COMUNICAÇÃO página 01 página 01 página 02 página 04 página 06 página 06 página 07 página 07 página 08 página 17 página 18 página 18 página 19 página 20LEIGABINETE DO PREFEITODECRETO ORÇAMENTÁRIO Nº 018, DE 03 DE MAIO DE 2010.\n",
            "6 Abre Crédito Adicional de Natureza Suplementar.\n",
            "7 O PREFEITO DE GOIÂNIA, no uso de suas atribuições legais e tendo em vista o disposto no artigo 43 e seus parágrafos, da Lei Federal n.º 4.320, de 17 de março de 1964 e no artigo 8º, da Lei n.º 8.878, de 29 de dezembro de 2009,DECRETA: artigo 1º É aberto à AGÊNCIA MUNICIPAL DE OBRAS 01 (um) Crédito Adicional de Natureza Suplementar, no montante de R$ 9.523.000,00 (nove milhões, quinhentos e vinte e três mil reais), correspondente a 1.318.975,0692 UROMG's (um milhão, trezentas e dezoito mil, novecentas e setenta e cinco vírgula zero seis noventa e duas Unidades de Referência Orçamentária do Município de Goiânia), destinado a constituir reforço da seguinte dotação da vigente Lei de Meios:6400AGÊNCIA MUNICIPAL DE OBRAS 640126 451 0025 1.4324490.51.0080 R$ 9.523.000,00TOTAL GERAL R$ 9.523.000,00 artigo 2º O crédito aberto pelo artigo anterior será coberto com o Superávit Financeiro, apurado no balanço patrimonial do DECRETO ORÇAMENTÁRIO\n",
            "8 Diário Oficial do Município Página 02MIRANDA SOARES, POR SEUS INESTIMÁVEIS SERVIÇOS PRESTADOS EM PROL DOS CIDADÃOS GOIANIENSES.\n",
            "9 A CÂMARA MUNICIPAL DE GOIÂNIA APROVA E PROMULGA O SEGUINTE DECRETO LEGISLATIVO: artigo 1ºFica concedida a Comenda da Ordem do Serviço Social e Comunitário ao Mauro Miranda Soares, Secretário do Governo e Habitação da Prefeitura de Goiânia. artigo 2ºEste Decreto Legislativo entra em vigor na data de sua promulgação.\n",
            "10 GABINETE DO PRESIDENTE DA CÂMARA MUNICIPAL DE GOIÂNIA, aos cinco dias do mês de maio de dois mil e dez (05.05.2010).\n",
            "11 FRANCISCO VALE JÚNIORPRESIDENTECÂMARA MUNICIPAL DE GOIÂNIADECRETO LEGISLATIVO Nº.13 DE 05 DE MAIO DE 2010.\n",
            "12 CONCEDE TÍTULO HONORÍFICO DE CIDADANIA GOIANIENSE AO ELDER ANTÔNIO LUNARDI, POR SEUS INESTIMÁVEIS SERVIÇOS PRESTADOS EM PROL DOS CIDADÃOS GOIANIENSES.\n",
            "13 A CÂMARA MUNICIPAL DE GOIÂNIA APROVA E PROMULGA O SEGUINTE DECRETO LEGISLATIVO: artigo 1ºFica concedida o título honorífico de Cidadania ao Elder Antônio Lunardi, Professor Universitário. artigo 2ºEste Decreto Legislativo entra em vigor na data de sua promulgação.\n",
            "14 GABINETE DO PRESIDENTE DA CÂMARA MUNICIPAL DE GOIÂNIA, aos cinco dias do mês de maio de dois mil e dez (05.05.2010).\n",
            "15 FRANCISCO VALE JÚNIORPRESIDENT Eexercício de 2009 da Secretaria Municipal de Finanças no montante de R$ 89.295.136,41 (oitenta e nove milhões, duzentos e noventa e cinco mil, cento e trinta e seis reais e quarenta e um centavos). artigo 3º Este Decreto entrará em vigor na data de sua publicação.\n",
            "16 GABINETE DO PREFEITO DE GOIÂNIA, aos 03 dias do mês de maio de 2010.\n",
            "17 PAULO GARCIA Prefeito de Goiânia OSMAR DE LIMA MAGALHÃES Secretário do Governo Municipal CÂMARA MUNICIPAL DE GOIÂNIADECRETO LEGISLATIVO Nº.11 DE 05 DE MAIO DE 2010.\n",
            "18 CONCEDE TÍTULO HONORÍFICO DE CIDADANIA GOIANIENSE.\n",
            "19 A CÂMARA MUNICIPAL DE GOIÂNIA APROVA E PROMULGA O SEGUINTE DECRETO LEGISLATIVO: artigo 1ºFica concedido o título honorífico de Cidadania Goianiense a José Mário Schreiner, pelos relevantes serviços prestados à comunidade desta Capital. artigo 2ºEste Decreto Legislativo entrará em vigor na data de sua promulgação.\n",
            "20 GABINETE DO PRESIDENTE DA CÂMARA MUNICIPAL DE GOIÂNIA, aos cinco dias do mês de maio de dois mil e dez (05.05.2010).\n",
            "21 FRANCISCO VALE JÚNIORPRESIDENTECÂMARA MUNICIPAL DE GOIÂNIADECRETO LEGISLATIVO Nº.12 DE 05 DE MAIO DE 2010.\n",
            "22 CONCEDE COMENDA DA ORDEM DO SERVIÇO SOCIAL E COMUNITÁRIO AO MAURO N° 4.861Sexta-feira14/05/2010DECRETO LEGISLATIVO\n",
            "23 Diário Oficial do Município Página 03MUNICIPAL DE GOIÂNIA, aos cinco dias do mês de maio de dois mil e dez (05.05.2010).\n",
            "24 FRANCISCO VALE JÚNIORPRESIDENTECÂMARA MUNICIPAL DE GOIÂNIADECRETO LEGISLATIVO Nº.16 DE 05 DE MAIO DE 2010.\n",
            "25 INSTITUI A COMENDA MUNICIPAL DO MÉRITO DE CULTURA JÚLIO VILELA À SENHORA LUCIANA LUIZA DE ARAÚJO.\n",
            "26 A CÂMARA MUNICIPAL DE GOIÂNIA APROVA E PROMULGA O SEGUINTE DECRETO LEGISLATIVO: artigo 1ºFica concedida a Comenda Municipal do Mérito de Cultura Júlio Vilela à Senhora Luciana Luiza de Araújo, pela brilhante vitória no Reality Show No Limite promovido pela TV Globo, onde esta demonstrou mais uma vez a força e carisma do povo goiano. artigo 2ºEste Decreto Legislativo entra em vigor na data de sua publicação. artigo 3ºRevogam-se as disposições em contrário.\n",
            "27 GABINETE DO PRESIDENTE DA CÂMARA MUNICIPAL DE GOIÂNIA, aos cinco dias do mês de maio de dois mil e dez (05.05.2010).\n",
            "28 FRANCISCO VALE JÚNIORPRESIDENTECÂMARA MUNICIPAL DE GOIÂNIADECRETO LEGISLATIVO Nº. 18 DE 05 DE MAIO DE 2010.\n",
            "29 INSTITUI A COMENDA MUNICIPAL DO MÉRITO DE CULTURA JÚLIO VILELA, À CÂMARA MUNICIPAL DE GOIÂNIADECRETO LEGISLATIVO Nº. 14 DE 05 DE MAIO DE 2010.\n",
            "30 CONCEDE A COMENDA MUNICIPAL DO MÉRITO DE CULTURA JÚLIO VILELA, AO CANTOR FRANK AGUIAR.\n",
            "31 A CÂMARA MUNICIPAL DE GOIÂNIA APROVA E PROMULGA O SEGUINTE DECRETO LEGISLATIVO: artigo 1ºFica concedida a Comenda Municipal do Mérito de Cultura Júlio Vilela ao Cantor Frank Aguiar, pela brilhante contribuição para a música brasileira. artigo 2ºEste Decreto Legislativo entra em vigor na data de sua publicação. artigo 3ºRevogam-se as disposições em contrário.\n",
            "32 GABINETE DO PRESIDENTE DA CÂMARA MUNICIPAL DE GOIÂNIA, aos cinco dias do mês de maio de dois mil e dez (05.05.2010).\n",
            "33 FRANCISCO VALE JÚNIORPRESIDENTECÂMARA MUNICIPAL DE GOIÂNIADECRETO LEGISLATIVO Nº.15 DE 05 DE MAIO DE 2010.\n",
            "34 CONCEDE O TÍTULO HONORÍFICO DE CIDADÃO GOIANIENSE AO SÉRGIO DAHER.\n",
            "35 A CÂMARA MUNICIPAL DE GOIÂNIA APROVA E PROMULGA O SEGUINTE DECRETO LEGISLATIVO: artigo 1ºFica concedido o Título Honorífico de Cidadão Goianiense ao Sérgio Daher, pelos relevantes serviços prestados em prol da saúde, neste Município. artigo 2ºEste Decreto Legislativo entra em vigor na data de sua promulgação.\n",
            "36 GABINETE DO PRESIDENTE DA CÂMARA N° 4.861Sexta-feira14/05/2010\n",
            "37 Diário Oficial do Município Página 04CÂMARA MUNICIPAL DE GOIÂNIADECRETO LEGISLATIVO Nº. 20 DE 05 DE MAIO DE 2010.\n",
            "38 CONCEDE TÍTULO HONORÍFICO DE CIDADANIA AO JOSÉ CARLOS DE SOUZA E DÁ OUTRAS PROVIDÊNCIAS .\n",
            "39 A CÂMARA MUNICIPAL DE GOIÂNIA APROVA E PROMULGA O SEGUINTE DECRETO LEGISLATIVO: artigo 1ºFica concedido o Título Honorífico de Cidadania Goianiense ao JOSÉ CARLOS DE SOUZA. artigo 2ºEste Decreto Legislativo entra em vigor na data de sua promulgação. artigo 3ºRevogam-se as disposições em contrário.\n",
            "40 GABINETE DO PRESIDENTE DA CÂMARA MUNICIPAL DE GOIÂNIA, aos cinco dias do mês de maio de dois mil e dez (05.05.2010).\n",
            "41 FRANCISCO VALE JÚNIORPRESIDENTESECRETARIA DO GOVERNO MUNICIPALPORTARIA N° 004, DE 13 DE MAIO DE 2010.\n",
            "42 Autoriza entrega de adiantamento no valor de R$ 5.000,00 (cinco mil reais) à servidora Eliane Gonzaga da Silva Garcia.\n",
            "43 O SECRETÁRIO DO GOVERNO MUNICIPAL, no uso de suas atribuições legais,RESOLVE:IÉ autorizada a entrega à servidora ELIANE GONZAGA DA SILVA GARCIA, matrícula n.° 383350-2, lotada na Secretaria do Governo Municipal, de um adiantamento no valor de R$ 5.000,00 (cinco mil reais), para pagamento de despesas extraordinárias e urgentes em quantidade restrita, cuja realização não possa subordinar-se ao processo normal de aplicação, a ser previamente empenhado à DUPLA RACYNE E RAFAEL .\n",
            "44 A CÂMARA MUNICIPAL DE GOIÂNIA APROVA E PROMULGA O SEGUINTE DECRETO LEGISLATIVO: artigo 1ºFica concedida a Comenda Municipal do Mérito de Cultura Júlio Vilela à Dupla Racyne e Rafael, pela brilhante contribuição para a música sertaneja no Estado de Goiás e no Brasil. artigo 2ºEste Decreto Legislativo entra em vigor na data de sua publicação. artigo 3ºRevogam-se as disposições em contrário.\n",
            "45 GABINETE DO PRESIDENTE DA CÂMARA MUNICIPAL DE GOIÂNIA, aos cinco dias do mês de maio de dois mil e dez (05.05.2010).\n",
            "46 FRANCISCO VALE JÚNIORPRESIDENTECÂMARA MUNICIPAL DE GOIÂNIADECRETO LEGISLATIVO Nº.19 DE 05 DE MAIO DE 2010.\n",
            "47 CONCEDE TÍTULO HONORÍFICO DE CIDADÃO GOIANIENSE AO FLORISBERTO GARCIA DOS SANTOS .\n",
            "48 A CÂMARA MUNICIPAL DE GOIÂNIA APROVA E PROMULGA O SEGUINTE DECRETO LEGISLATIVO: artigo 1ºFica, nos termos da disposição contida no artigo 64, inciso XXI, da Lei Orgânica do Município de Goiânia, concedido o Título Honorífico de Cidadão Goianiense ao Senhor FLORISBERTO GARCIA DOS SANTOS pelos seus inestimáveis serviços prestados em benefício do Município de Goiânia. artigo 2ºEste Decreto Legislativo entra em vigor na data de sua promulgação. artigo 3ºRevogam-se as disposições em contrário.\n",
            "49 GABINETE DO PRESIDENTE DA CÂMARA MUNICIPAL DE GOIÂNIA, aos cinco dias do mês de maio de dois mil e dez (05.05.2010).\n",
            "50 FRANCISCO VALE JÚNIORPRESIDENTEN° 4.861Sexta-feira14/05/2010PORTARIA\n",
            "51 Diário Oficial do Município Página 05para telecomunicações; vestuário, fardamento, tecidos e aviamentos; material de acondicionamento e embalagem; suprimento de proteção ao vôo; suprimento de aviação; sobressalentes de máquinas e motores de navios e esquadra; explosivos e munições e outros materiais de uso não duradouro.33.90.39.00-00Despesas com prestação de serviços por pessoas jurídicas para órgãos públicos, tais como: assinaturas de jornais e periódicos; tarifas de energia elétrica, gás, água e esgoto; serviços de comunicação (telefone, telex, correios, etc.); fretes e carretos; pedágio; locação de imóveis (inclusive despesas de condomínio e tributos à conta do locatário, quando previstos no contrato de locação); locação de equipamentos e materiais permanentes; conservação e adaptação de bens imóveis; seguros em geral (exceto os decorrentes de obrigação patronal); serviços de asseio e higiene; serviços de divulgação, impressão, encadernação e emolduramento; serviços funerários; despesas com congressos, simpósios, conferências ou exposições; despesas miúdas de pronto pagamento; vale-transporte, vale-refeição; auxílio-creche (inclusive a indenização a servidor); software; habilitação de telefonia fixa e móvel celular e outros congêneres.\n",
            "52 ELIANE GONZAGA DA SILVA Matrícula n.º 383350-2DECLARAÇÃO Declaramos para os devidos fins, que a servidora ELIANE GONZAGA DA SILVA, matrícula n.º 383350-2, desta Pasta, não se encontra enquadrada no caput do artigo 5º, da Resolução Normativa de n.º 007, de 20 de março de 1996Tribunal de Contas dos Municípios.\n",
            "53 Por ser verdade, firmo a presente declaração.\n",
            "54 Goiânia, 13 de maio de 2010.\n",
            "55 OSMAR DE LIMA MAGALHÃES Secretário do Governo Municipal CÂMARA MUNICIPAL DE GOIÂNIAPORTARIA Nº 178, DE 04 DE MAIO DE 2010.\n",
            "56 A MESA DIRETORA DA CÂMARA MUNICIPAL DE GOIÂNIA, usando das atribuições que lhe são conferidas pela alínea a, inciso II, do artigo 9º da Resolução nº 026, de 19 de dezembro de 1991REGIMENTO INTERN Oe tendo em vista o contido no Processo nº 0240/2010conta das dotações:11.01.04.122.0005.2002- 33.90.30.00 R$ 3.000,00 33.90.39.00 R$ 2.000,00IIO adiantamento deverá ser aplicado dentro de 60 (sessenta) dias, contados de seu recebimento pelo responsável, não podendo este aplicar o numerário após expiração do prazo marcado para seu emprego.\n",
            "57 III Fica designado o servidor JOESTOW SILVA DURÃES, matrícula n.° 793973-1, Chefe da Divisão de Pessoal, lotado na Secretaria do Governo Municipal, para verificar e atestar a regularidade da aplicação do adiantamento pelo responsável.\n",
            "58 Cumpra-se.\n",
            "59 Publique-se.\n",
            "60 GABINETE DO SECRETÁRIO DO GOVERNO MUNICIPAL, aos 13 dias do mês de maio de 2010.\n",
            "61 OSMAR DE LIMA MAGALHÃES Secretário do Governo Municipal PLANO DE APLICAÇÃO Adiantamento concedido pela Portaria n° 004/2010, à servidora ELIANE GONZAGA DA SILVA GARCIA, matrícula n.º 383350-2, lotada na Secretaria do Governo Municipal, a importância de R$ 5.000,00 (cinco mil reais), a ser empenhado à conta da dotação:11.01.04.122.0005.200233.90.30.00 R$ 3.000,00 33.90.39.00 R$ 2.000,00Destina-se a cobrir despesas extraordinárias e urgentes em quantidade restrita e de pronto pagamento, assim discriminadas:3390.30.00-00Despesas com álcool automotivo; gasolina automotiva; diesel automotivo; lubrificantes automotivos; combustível e lubrificantes de aviação; gás engarrafado; outros combustíveis e lubrificantes; material biológico, farmacêutico e laboratorial; animais para estudo; corte ou abate; alimentos para animais; material de coudelaria ou de uso zootécnico; sementes e mudas de plantas; gêneros de alimentação; material de construção para reparos em imóveis; material de manobra e patrulhamento; material de proteção, segurança, socorro e sobrevivência; material de expediente; material de cama e mesa, copa e cozinha e produtos de higienização; material gráfico e de processamento de dados; aquisição de disquete; material para esportes e diversões; material para fotografia e filmagem; material para instalação elétrica e eletrônica; material para manutenção, reposição e aplicação; material odontológico, hospitalar e ambulatorial; material químico; material N° 4.861Sexta-feira14/05/2010\n",
            "62 Diário Oficial do Município Página 06PROCURADORIA GERAL DO MUNICÍPIOEXTRATO DO 4° TERMO ADITIVO AO CONTRATO N° 159/20071.\n",
            "63 ESPÉCIE:Termo Aditivo2.\n",
            "64 FUNDAMENTO: artigo 57, inciso II, da Lei 8.666/93.3.\n",
            "65 CONTRATANTES:MUNICÍPIO DE GOIÂNIA, com a interveniência da SECRETARIA MUNICIPAL DE SAÚDE e o LUIZ SÉRGIO BARBOSA4.\n",
            "66 OBJETO:prorrogação do Contrato de Locação nº 159/2007, e pactuação de novo valor do aluguel.5.\n",
            "67 PRAZO:12 (doze) meses, contados a partir de 13 de abril de 2010.6.\n",
            "68 VALOR:Valor mensal R$ 957,14 (novecentos e cinqüenta e sete reais e quatorze centavos), perfazendo o valor total de R$ 11.485,68 (onze mil, quatrocentos e oitenta e cinco reais e sessenta e oito centavos).7.\n",
            "69 Dotação Orçamentária:2010.21.50.10.301.0123.2345.33903615.20.38.\n",
            "70 Nota de Empenho nº.:0061 00, de 23.04.20109.\n",
            "71 PROCESSO n°:39563151/2009PROCURADORIA GERAL DO MUNICÍPIOEXTRATO DO 5° TERMO ADITIVO AO CONTRATO N° 057/20061.\n",
            "72 ESPÉCIE:Termo Aditivo2.\n",
            "73 CONTRATANTES:MUNICÍPIO DE GOIÂNIA, com a interveniência da SECRETARIA MUNICIPAL DE SAÚDE e o JOSÉ EUTEMIO DA SILVA.3.\n",
            "74 OBJETO:É objeto deste Termo Aditivo a qualificação do novo proprietário do imóvel situado à Rua SC-35, Quadra RESOLV Eretificar a Portaria nº 145, de 14 de abril de 2010, que concedeu pensão mensal a Paulo Roberto Cardoso dos Santos Guimarães, neto de Francisco Cardoso Roxo dos Santos, aposentado no cargo de Assistente Legislativo, nível I, para que seja considerada a data de sua lavratura o dia 14 de abril de 2010, permanecendo inalterados os demais termos do referido ato.\n",
            "75 CÂMARA MUNICIPAL DE GOIÂNIA, aos 04 dias do mês de maio de 2010.\n",
            "76 Francisco Jr PRESIDENTE Djalma Araújo1º SECRETÁRIO Geovani Antônio2° SECRETÁRIOSECRETARIA MUNICIPAL DE SAÚDE Processo n.º: 39693151Nome: GUSTAVO VIEIRA LIMA Assunto: Doação DESPACHO N º 4598/2010.\n",
            "77 O SECRETÁRIO DA SAÚDE DO MUNICÍPIO DE GOIÂNIA, no uso de suas atribuições legais e regulamentares, considerando o disposto na Lei Federal n.º 8.080/90; Considerando o novo modelo de dispensação aos pacientes que procuram o Ministério Público do Estado de Goiás, e a solicitação contida no Oficio n.º 366/10, na pessoa do Promotor Marcelo Celestino;Considerando o respeito ao Parecer favorável da CATS; RESOLVE:DETERMINAR a aquisição contínua de 10 (dez) latas/mês, do alimento leite Pregomim, a serem fornecidos ao paciente Gustavo Vieira Lima, tudo conforme consta do presente procedimento administrativo.\n",
            "78 Publique-se, Registre-se e Cumpra-se, na forma da lei.\n",
            "79 Gabinete do Secretário Municipal de Saúde, aos onze dias do mês de maio de 2010.\n",
            "80 Paulo Rassi Secretário N° 4.861Sexta-feira14/05/2010DESPACHOEXTRATO\n",
            "81 Diário Oficial do Município Página 07SECRETARIA MUNICIPAL DE SAÚDE.\n",
            "82 EXTRATO DO CONVÊNIO N 09/2010PROCESSO: 38949403CONVENENTE: Secretaria Municipal de Saúde.\n",
            "83 CONVENIADA: Vila São José Bento Cottolengo OBJETO: O presente Convênio tem por objeto a viabilização do suprimento de combustível e manutenção dos veículos que transportam os pacientes com deficiências múltiplas e crônicas em tratamento terapêutico na CONVENIADA, e seus respectivos acompanhantes.\n",
            "84 VIGÊNCIA: Este Convênio vigorará por 12 (doze) meses, a contar da data de sua assinatura e verificação pela Controladoria Geral do Município, podendo ser prorrogado por consenso das partes, através de Termo Aditivo.\n",
            "85 VALOR E DOTAÇÃO ORÇAMENTÁRIA: Para a execução deste Convênio estima-se o valor mensal de R$ 13.434,35 (treze mil, quatrocentos e trinta e quatro reais e trinta e cinco centavos), o valor global estimado em R$ 161.212,26 (cento e sessenta e um mil, duzentos e doze reais e vinte e seis centavos), sendo R$ 113.752,26 (cento e treze mil, setecentos e cinqüenta e dois reais e vinte e seis centavos), correspondente à manutenção de veículos, que correrá à dotação orçamentária 2010.21.50.10.302.0123.2339.33903919.20.3, Nota de Empenho n° 2010215011930542 e, R$ 47.460,00 (quarenta e sete mil, quatrocentos e sessenta reais), correspondente ao fornecimento de combustível, que correrá à dotação orçamentária 2010.21.50.10.302.0123.2339.33903999.20.3, Nota de Empenho n° 2010215011930512.\n",
            "86 DATA DA ASSINATURA: 10 de maio de 201066, Lote 22, Bairro São Carlos, nesta Capital.4.\n",
            "87 PROCESSO n°:38533622/2009.\n",
            "88 SECRETARIA MUNICIPAL DE SAÚDE ASSESSORIA DE PLANEJAMENTO, QUALIDADE E CONTROLE DIVISÃO DE CONVÊNIOS E CONTRATOSERRATA DO EXTRATO DO CONTRATO DE PRESTAÇÃO DE SERVIÇOS N °. 082/2010.\n",
            "89 Publique-se a errata do Extrato do Contrato de prestação de serviços ambulatorial por ter saído com a vigência errada.\n",
            "90 Onde se lê:Leia-se:SECRETARIA MUNICIPAL DE SAÚDE ASSESSORIA DE PLANEJAMENTO, QUALIDADE E CONTROLE DIVISÃO DE CONVÊNIOS E CONTRATOSEXTRATO DOS DISTRATOS DOS CONTRATOS DE TRABALHO POR TEMPO DETERMINADON° 4.861Sexta-feira14/05/2010ERRATAEXTRATO\n",
            "91 Diário Oficial do Município Página 08 artigo 3° Homologar, no termo em que foi elaborado, o Projeto Político-Pedagógico da Instituição citada no artigo 1º desta Resolução, a partir de sua aprovação pela comunidade escolar. artigo 4° Esta Resolução entra em vigor na data de sua aprovação, revogando-se as disposições em contrário.\n",
            "92 Sala das sessões plenárias, aos vinte e quatro dias do mês de agosto de 2009.\n",
            "93 Ampara Ferreira de Barros Paiva Presidente Lindomar Resende Rodrigues- Vice-Presidente Ana Rita Marcelo de Castro-Secretária-geral André Luiz Alves Villar Divina Aparecida Crispim de Souza Stival Flávio Leandro de Souza Hilda Maria Alvarenga Iêda Leal de Souza Martins José Agtônio Guedes Dantas Ludimila Helizabet Barbosa Naves Maria Rachel Leone Furtado Marinalva da Conceição Victor Wilson Sodré de Oliveira CONSELHO MUNICIPAL DE EDUCAÇÃORESOLUÇÃOCME N°. 151, de 24 de agosto de 2009.\n",
            "94 Concede Renovação de Reconhecimento do Ensino Fundamental e dá outras providências.\n",
            "95 O CONSELHO MUNICIPAL DE EDUCAÇÃO DE GOIÂNIA, com fundamento nos Arts. 238 e 239 e incisos da Lei Orgânica do Município, no artigo 1°, no artigo 6º e suas alíneas da Lei de sua Criação N°. 7.771, de 29 de dezembro de 1997, no artigo l° e no artigo 2° com seus incisos e alíneas do seu Regimento, tendo por base o Parecer-AT/CME N°. 050/09 e de acordo com a solicitação contida no Processo SME N°. 33123400/07.\n",
            "96 Resolve artigo 1º Conceder Renovação de Reconhecimento do Ensino Fundamental Ciclos II e III e EAJA1° à 8° série, ministrado pela Escola Municipal Maria Araújo Freitas, localizada na Rua 18, esquina com Rua 203, Área 2, s , Parque Atheneu, nesta capital, no período de 1°-1-2008 a 31-12-2012. artigo 2º A Renovação de Reconhecimento a que se refere esta Resolução é válida somente para a Escola mencionada e localizada, conforme artigo 1° desta.\n",
            "97 Goiânia, 07 de maio de 2010,SECRETARIA MUNICIPAL DE SAÚDE ASSESSORIA DE PLANEJAMENTO, QUALIDADE E CONTROLE DIVISÃO DE CONVÊNIOS E CONTRATOSEXTRATO DOS CONTRATOS DE PRESTAÇÃO DE SERVIÇOS AMBULATORIAIS AOS PACIENTES DO SUS NO MUNICÍPIO DE GOIÂNIA DE ACORDO COM O EDITAL DE CHAMAMENTO 009/2009 número 4.861Sexta-feira14/05/2010RESOLUÇÃO\n",
            "98 Diário Oficial do Município Página 09consideradas boas pelo Serviço de Inspeção Escolar, embora seja necessário o uso de iluminação artificial em seis salas de aula.\n",
            "99 A relação espaço/ aluno nas salas dos Ciclos II e III atende ao que determina a legislação, entretanto, em seis turmas EAJA essa situação não se configura, conforme quadro f. 314 dos autos.\n",
            "100 Os serviços de fornecimento de água e de coleta de esgoto são prestados pela rede pública.\n",
            "101 A água é armazenada em três caixas com capacidade para 1.000 litros cada uma, higienizadas semestralmente.\n",
            "102 A potável é disponibilizada em dois purificadores e em um bebedouro, com cinco jatos.\n",
            "103 As condições de higiene e conservação desses equipamentos foram classificadas como boas.\n",
            "104 Durante o período de reconhecimento foram realizadas as seguintes melhorias:construção da quadra de esporte coberta;- ampliação da cozinha e despensa;- reforma de uma sala de aula, transformando-a em refeitório;construção de duas salas de aula;- reforma do piso de todas as salas e colocação de revestimento de 1,5m de altura, nas paredes das salas de aula;- troca dos quadros de giz;- colocação de tenda com 30,00 m² para aumentar a área coberta. 2.2 Aspecto Administrativo A escrituração escolar apresenta-se com organização devida, em conformidade com as orientações da SME.\n",
            "105 Todos os livros de atas se encontram preenchidos corretamente e atualizados.\n",
            "106 As fichas avaliativas são redigidas de modo claro e arquivadas no dossiê dos alunos.\n",
            "107 Os diários de turmas foram encerrados corretamente, faltando apenas uma condição melhor para proteger os referentes aos anos 2004 e 2005, pois estão reunidos com uma cinta de papel.\n",
            "108 Os dossiês de alunos, funcionários e legislação educacional estão acondicionados em pastas apropriadas.\n",
            "109 Os arquivos ativos e passivos são facilmente acessíveis.2.3 Aspecto Pedagógico A diretora é pedagoga, com especialização em Educação em Ciências.\n",
            "110 Os integrantes do corpo docente e os técnicos são licenciados em suas áreas de atuação, conforme demonstra a Relação do corpo administrativo/ pedagógico , folhas 11 e 12 dos autos.\n",
            "111 Muito desses profissionais são pós-graduados e todo o grupo participa dos eventos promovidos pela SME.\n",
            "112 O trabalho pedagógico desenvolvido na escola é coerente com a sua Proposta Político-Pedagógica.\n",
            "113 Esse documento é elaborado em etapas, sendo uma delas destinada à participação da comunidade que apresenta sugestões que julga importantes.\n",
            "114 O planejamento é realizado de acordo com o calendário da SME, com algumas alterações de datas quando há necessidade.\n",
            "115 O acervo bibliográfico é constituído de 2.900 livros de literatura, 60 dicionários, 7 enciclopédias e 990 volumes destinados à pesquisa.\n",
            "116 O material didático- pedagógico compreende mapas, globos, além dos equipamentos relacionados nas folhas 141 e 142 dos autos.\n",
            "117 O Conselho Escolar encontra-se formado de acordo com as orientações da SME e sua atuação consiste em deliberar sobre assuntos Financeiros, administrativos e pedagógicos.\n",
            "118 Todos os procedimentos realizados são devidamente registrados em atas.\n",
            "119 A articulação Escola/ comunidade ocorre por meio de CONSELHO MUNICIPAL DE EDUCAÇÃO Processo SME N°. 33123400de: 13-12-2007 Interessado: Escola Municipal Maria Araújo de Freitas Assunto: Renovação de Reconhecimento Ensino Fundamental Parecer AT/CME N°. 050/09de: 20-3-2009 Data da análise: 24-8-2009Sessão Plenária CME N°. 083/2009PARECERASSESSORIA TÉCNICA/CME N°. 050/091.\n",
            "120 HISTÓRICOA Escola Municipal Maria Araújo de Freitas, localizada na Rua 18, esquina com Rua 203, Área 2, s , Parque Atheneu, nesta Capital, por meio de sua diretora solicita a este Conselho a Renovação de Reconhecimento do Ensino Fundamental Ciclos II, III e EAJA- 1ª à 8ª série, a partir de 2008.\n",
            "121 Solicita ainda a homologação do projeto Político-Pedagógico.\n",
            "122 O processo foi instruído de acordo com a Resolução CME N°. 072/99, Folhas 03 a 318.\n",
            "123 As informações contidas nos autos, especialmente as do Relatório de Verificação Prévia/ DIE, emitido em 19 de junho de 2008, embasaram a presente análise.2.\n",
            "124 CONTEXTO INSTITUCIONALA Escola em pauta, de natureza pública, ministra o Ensino Fundamental Ciclos II e III e EAJA1ª à 8ª série.\n",
            "125 Lei de Criação e Denominação N°. 7.173, de 30 de dezembro de 1992.\n",
            "126 A Portaria SEC N°. 1.672, de 19 de maio de 1998, reconheceu o Ensino fundamental1ª à 8ª série por dez anos letivos, a partir de 1998.\n",
            "127 Diretora: Eda Valéria Dias Campos.\n",
            "128 A escola disponibiliza, anualmente, 399 vagas por turno. É acompanhada pela Unidade Regional de Educação Maria Thomé Neto. 2.1 Aspecto Físico O prédio escolar é público, possui área construída de 1.200,00m², situada em um terreno de 7.500,00m².\n",
            "129 A edificação tem o formato de U e as alas são separadas por um espaço livre cimentado, com duas árvores grandes, cujas raízes afetaram o calçamento, deixando-o irregular, gerando riscos de quedas aos transeuntes.\n",
            "130 O conjunto das dependências compreende: ala direita: biblioteca; três salas: na área central estão localizadas a cozinha/ despensa, depósito de material para limpeza, sanitários masculino e feminino, outro para servidores(as), utilizado também pelas pessoas com necessidades especiais, sala para professores e coordenação, sala multimeios e uma sala de aula.\n",
            "131 A ala da esquerda é composta pela diretoria/ secretaria, quatro salas de aulas e ambiente informatizado.\n",
            "132 As áreas livres descobertas são amplas, com árvores.\n",
            "133 Nessas há uma quadra poliesportiva coberta e uma horta pequena.\n",
            "134 As áreas cobertas/ de circulação foram ampliadas com a instalação de uma tenda de 30,00m².\n",
            "135 A escola é cercada por muros, com portões de entrada para pedestres e veículos respectivamente.\n",
            "136 As condições físico-ambientais da unidade escolar foram N° 4.861Sexta-feira14/05/2010\n",
            "137 Diário Oficial do Município Página 10bem como a homologação da Proposta Político-Pedagógica.\n",
            "138 Entende ser prudente recomendar a diretora solucionar os problemas referidos nas Considerações Finais deste Parecer com o objetivo de eliminar possíveis riscos à integridade física de todas as pessoas que passam pela área.\n",
            "139 Outra providência a ser recomendada é a criação de condição adequada para acondicionar os diários de turmas referentes aos anos 2004 e 2005.À Plenária para deliberação.\n",
            "140 Goiânia, 20 de março de 2009.\n",
            "141 Assessoras técnicas Fátima Alcídia Costa Mota Sandra de Lourdes Rocha de Oliveira Coordenadora CONSELHO MUNICIPAL DE EDUCAÇÃO Processo SME N°. 33123400de: 13-12-2007 Interessado (a): Escola Municipal Maria Araújo de Freitas Assunto: Renovação de Reconhecimento do Ensino Fundamental Parecer AT/CME N°. 050/09de: 20-3-2009Data da análise: 24-8-2009Sessão plenária CME N°. 083/2009DELIBERAÇÃO PLENÁRIA Na sessão plenária do dia 24-8-2009, considerando o contido nos autos e o expresso no Parecer AT/CME N°. 050/09, este Conselho Pleno deliberou o seguinte sobre o assunto em pauta:- conceder Renovação de Reconhecimento do Ensino Fundamentalciclos II e III e EAJA1ª à 8ª série, no período de 1º-1-2008 a 31-12-2012;-homologar o Projeto Político-Pedagógico;- determinar à direção que empreenda ações para solucionar os problemas elencados nas considerações finais do Parecer em referência, bem como que providencie condições adequadas para acondicionar os diários de turmas do período de 2004 a 2005.\n",
            "142 Ampara Ferreira Barros Paiva Presidente Lindomar Resende Rodrigues- Vice-Presidente Ana Rita Marcelo de Castro-Secretária-geral André Luiz Alves Villar Divina Aparecida Crispim de Souza Stival Flávio Leandro de Souza Hilda Maria Alvarenga Iêda Leal de Souza Martins José Agtônio Guedes Dantas Ludimila Helizabet Barbosa Naves Maria Rachel Leone Furtado Marinalva da Conceição Victor Wilson Sodré de Oliveiraeventos do Projeto Escola Aberta, encontros pedagógicos e comemorativos.\n",
            "143 A escola desenvolve os seguintes projetos com alguns parceiros:Saúde Bucalgabinete dentáriotrês meses de duração;- Parceria com o Conselho Tutelar- Regional Sulrealização de palestras para pais e alunos;Dengue Secretaria Municipal de Saúde.\n",
            "144 Vale ressaltar que dentre essas ações se inclui, PROERD Polícia Militar, um projeto desconhecido por este Conselho e por isso não recomendado.\n",
            "145 Há, ainda, experiências pedagógicas diversificadas, tais como:-Oficinas lúdicas, cuja produção é exposta na Mostra Pedagógica da Escola e da SME;- Projeto Incentivo à Leituradesenvolvido pela biblioteca com educandos do ciclo III, que disponibiliza livros aos alunos por meio de empréstimos, além da leitura realizada no próprio local;- Projeto Professor Padrinho/ Madrinhapropõe-se aos professores(as) que sejam responsáveis por uma turma, aproximando-se mais da mesma para apóia-la.- Recreio Dirigido- ciclo II Icada dia um professor responsável dirige as brincadeiras e jogos.\n",
            "146 A estatística educacional referente ao Ensino Fundamental no período 2004/2007 evidencia estabilidade do número de matrículas e de alunos aprovados.\n",
            "147 O quantitativo de transferências em 2005 foi alto tendo se normalizado nos anos seguintes.\n",
            "148 As evasões se apresentam em números aceitáveis.\n",
            "149 Quanto às Turmas de EAJA nota-se redução das matrículas em 2007, bem como do quantitativo de alunos aprovados.\n",
            "150 As transferências apresentaram-se estáveis e o número de evasões cresceu expressivamente em 2005 e 2006, com pequena redução em 2007.\n",
            "151 No Relatório a Inspeção Escolar faz referência à discrepância entre matriculados e freqüentes.\n",
            "152 A freqüência é aproximadamente 38 menor que a matrícula .\n",
            "153 O volume dos recursos recebidos no quatriênio em referência é o seguinte:3.\n",
            "154 CONSIDERAÇÕES FINAIS:A Escola em pauta desenvolve um trabalho pedagógico coerente com a sua Proposta Político Pedagógica, por meio da ação de profissionais devidamente qualificados.\n",
            "155 Conta, ainda, com o acompanhamento de técnicos da Unidade Regional de Educação Maria Thomé Neto.\n",
            "156 As condições físico-ambientais são adequadas parcialmente, tendo em vista a existência de irregularidades no piso da área localizada entre os dois pavilhões, tomando-a perigosa aos transeuntes. 4.\n",
            "157 CONCLUSÃO Após finalizar a análise do auto, esta Assessoria considera eficiente o trabalho pedagógico desenvolvido pela escola.\n",
            "158 Nessa perspectiva manifesta-se favorável à concessão da Renovação de Reconhecimento do Ensino Fundamental Ciclos II, III e EAJA1° a 8° série, a partir de 2008 para o período de 1°-1-2008 a 31-12-2012, N° 4.861Sexta-feira14/05/2010\n",
            "159 Diário Oficial do Município Página 11083/2009INFORMAÇÃO TÉCNICAAT/CME N°. 101 /09Origem: Assessoria Técnica Destino: Conselho Pleno Objetivo: Apresentar alterações no documento: Proposta Político- Pedagógica para as Escolas Rurais do Município de Goiânia .\n",
            "160 A Secretária Municipal de Educação, Professora Márcia Pereira Carvalho, por meio do Oficio N°. 1.709/2009SME, encaminhou a este órgão as alterações realizadas no Documento: Proposta Político-Pedagógica para as Escolas Rurais do Município de Goiânia.\n",
            "161 O novo Documento apresenta complementações referentes aos itens solicitados no Oficio N°. 158/2008CME, encaminhado à SME, após a deliberação do Conselho Pleno- Sessão N°. 034/08, com base no Parecer AT/CME N°. 017/08.\n",
            "162 Esta Assessoria procedeu à análise comparativa entre as complementações solicitadas pelo CM Ef. 30 e o apresentado pela SM Efolhas 31 a 33 dos autos e sintetizou-as conforme expresso no quadro a seguir:CONSELHO MUNICIPAL DE EDUCAÇÃORESOLUÇÃOCME N°. 152, de 24 de agosto de 2009.\n",
            "163 Aprova Proposta Político-Pedagógica para as Escolas Rurais do Município de Goiânia e dá outras providências.\n",
            "164 O CONSELHO MUNICIPAL DE EDUCAÇÃO DE GOIÂNIA, com fundamento nos Arts. 238 e 239 e incisos da Lei Orgânica do Município, no artigo 1°, no artigo 6° e suas alíneas da Lei de sua Criação N°. 7.771. de 29 de dezembro de 1997, no artigo 1 ° e no artigo 2° com seus incisos e alíneas do seu Regimento, tendo por base a Informação AT/CME N°. 101/09 de acordo com a solicitação contida no Processo- SME N°. 33433344/08,Resolve artigo 1° Aprovar a Proposta Político-Pedagógica para as Escolas Rurais do Município de Goiânia, no período de 22-01-08 a 31-12-2010. artigo 2° Esta Resolução entra em vigor na data dc sua aprovação, revogando-se as disposições em contrário.\n",
            "165 Sala das sessões plenárias. aos vinte e quatro dias do mês de agosto de 2009.\n",
            "166 Ampara Ferreira Barros Paiva Presidente Lindomar Resende Rodrigues- Vice-Presidente Ana Rita Marcelo de Castro-Secretária-geral André Luiz Alves Villar Divina Aparecida Crispim de Souza Stival Flávio Leandro de Souza Hilda Maria Alvarenga Iêda Leal de Souza Martins José Agtônio Guedes Dantas Ludimila Helizabet Barbosa Naves Maria Rachel Leone Furtado Marinalva da Conceição Victor Wilson Sodré de Oliveira CONSELHO MUNICIPAL DE EDUCAÇÃO Processo CME N°. 33433344de: 22-1-2008 Interessado(a): Secretaria Municipal de Educação Assunto: Proposta Político-Pedagógica para as Escolas Rurais do Município de Goiânia.\n",
            "167 Informação Técnica AT/CME N°. 101/09de: 30-6-2009Data da análise: 24-8-2009Sessão plenária CME N°.\n",
            "168 A nova Proposta, quando comparada à anterior, apresenta pequenas alterações.\n",
            "169 As justificativas apresentadas pela SME contemplam os questionamentos deste Conselho, conforme abaixo:- Com relação à sugestão de utilização do termo educação do campo , no lugar de educação de rural , esta não foi acatada, conforme justificativa Ofício SME folhas 32-33.- Nas Considerações Gerais sobre a Proposta, constante do Parecer CME N°. 017/08, que foi aprovado integralmente pelo N° 4.861Sexta-feira14/05/2010\n",
            "170 Diário Oficial do Município Página 12da RME que estão localizadas em área do município de Goiânia consideradas rurais.\n",
            "171 Pelo disposto no Documento observa-se que houve por parte da SME a preocupação majoritária de informar a interface das Escolas Rurais e a proposta dos Ciclos de Formação e Desenvolvimento Humano. É importante registrar, contudo, que duas dessas instituições funcionarão em tempo integral e duas atendem a Educação de Adolescentes, Jovens e adultos.\n",
            "172 São também especificidades que precisam ser contempladas, posto que do ponto de vista pedagógico, curricular e das condições de trabalho apresentam novos desafios à gestão das instituições e ao fazer docente.\n",
            "173 Sugestão de Encaminhamento Considerando os itens destacados nesta informação, esta Assessoria sugere que a Proposta em destaque seja aprovada pelo Conselho Pleno para o período de 22-01-2008 a 31-12-2010.\n",
            "174 Sugere ainda que a próxima proposta seja acompanhada de avaliação sistemática de implementação da que ora é aprovada.\n",
            "175 Tal avaliação necessita contemplar ações pedagógicas realizadas que evidenciam o respeito às especificidades dos sujeitos que por meio da Proposta são atendidos, considerando-se, também, as formas de organização do Ensino Fundamental existentes, ou seja, além dos Ciclos de Formação e Desenvolvimento Humano, o atendimento em Tempo Integral e na modalidade EJA.\n",
            "176 Vale ressaltar que exercícios como os relatados nesta informação representam um diálogo necessário, caracterizado pelo respeito entre este órgão e a SME e com vistas à consolidação de uma política de educação pública e de qualidade social para todos.À Plenária para deliberação.\n",
            "177 Goiânia, 30 de junho de 2009.\n",
            "178 Assessoras técnicas Maria Francisca Gomes Luz Abreu Janaina Cristina de Jesus Sandra de Lourdes Rocha de Oliveira Coordenadora Conselho Pleno, (folha 29 dos autos), esta Assessoria ressaltou o fato de a Proposta em destaque conter a Proposta Curricular comum ao ensino regular das demais Unidades Educacionais, ou seja, não apresenta[r] especificidade[s] para a educação de campo, privilegiando uma visão urbana de educação, ficando a cargo apenas dos professores essa adequação ( folha 27 dos autos).\n",
            "179 A nova Proposta Política- Pedagógica, em referência, reitera o apresentado na Proposta anterior-folhas 35 e 05: A análise do trabalho pedagógico realizado nas escolas rurais da Rede Municipal de Educação de Goiânia (RME), tem demonstrado que este não tem se diferenciado muito daquele desenvolvido nas escolas situadas no espaço urbano, seja ele periférico ou não .\n",
            "180 Nesse contexto, esta Assessoria reafirma o disposto no Parecer AT/CME, N°. 017/08, conforme o qual uma Proposta Político-Pedagógica para Escolas localizadas em área do município de Goiânia considerada rural deve contemplar ações específicas para o trabalho pedagógico a ser desenvolvido com esse público.\n",
            "181 Contemplar, ainda, especificidades relativas às formas de organização do ensino existente nas Instituições: Ciclos de Formação e Desenvolvimento Humano, Projeto AJA, EAJA1ª à 8ª série Organização Alternativa.\n",
            "182 CONSIDERAÇÕESO novo Documento não apresenta alterações significativas em relação aos aspectos indicados por este Conselho, embora todos os itens solicitados tenham sido devidamente justificados.\n",
            "183 Por meio da construção dessa Proposta, a SME evidencia a importância que tem buscado atribuir à especificidades dos sujeitos que têm direito à educação escolar no município de Goiânia.\n",
            "184 Um esforço necessário e que tem se pautado no compromisso de respeito e conhecimento das condições em que tais sujeitoscriança, adolescentes, jovens, adultos e idosos se inserem e nas quais constroem sua existência.\n",
            "185 A Proposta Político-Pedagógica Escolas Rurais no Município de Goiânia , em sua introdução reafirma que a realidade dos sujeitos deve ser o ponto de partida para a elaboração e exercício da prática pedagógica e para a elaboração das políticas educacionais.\n",
            "186 Esta, inclusive, tem sido também a perspectiva adotada pelas políticas em curso de âmbito federal.\n",
            "187 Exemplo disso é a diferenciação, em termos de financiamento, possibilitada pelo Fundo de Desenvolvimento da Educação e Manutenção da Educação Básica Fundeb.\n",
            "188 Tomando o ensino fundamental urbano como referência, esse Fundo trabalha com a ponderação 1.05 para os anos iniciais do Ensino Fundamental e 1.15 para os anos finais do ensino rural (cópia tabela Fundeb em anexo).\n",
            "189 Em seu teor, a Proposta revela manter como referência a forma de organização administrativa e curricular das demais instituições que atendem o ensino fundamental Ciclos de Formação e Desenvolvimento Humano.\n",
            "190 Indica que a diferenciação nesse atendimento deve se dar especialmente a partir do trabalho pedagógico que os profissionais da educação realizarão com os educandos.\n",
            "191 Essa perspectiva atribui ao trabalho docente a responsabilidade de uma postura investigativa da realidade dos sujeitos; o que sem dúvida requer formação permanente, pautada numa concepção de educação que corresponda a essa postura.\n",
            "192 Em relação à formação continuada dos profissionais que atuam nessas escolas, a Proposta prevê a oferta de cursos específicos e que esses participem também de temáticas gerais disponibilizadas pelo Centro de Formação dos Profissionais da Educação.\n",
            "193 A proposta direciona-se a quatro instituições educacionais N° 4.861Sexta-feira14/05/2010\n",
            "194 Diário Oficial do Município Página 13Parecer AT/CME Nº. 058/09 e de acordo com a solicitação contida no Processo SME Nº. 37978752/09,Resolve artigo 1°Aprovar o Projeto do Curso O Atendimento Educacional Especializado no Processo de Construção do Conhecimento1ª edição, com carga horária de 48 horas, autorizando sua realização no período de agosto e setembro de 2009. artigo 2°Autorizar, após homologação do Relatório de Resultados Finais, a emissão de Certificados aos (às) cursistas que obtiverem aproveitamento igual ou superior a setenta e freqüência igual ou superior a setenta e cinco por cento do total das horas trabalhadas. artigo 3°Esta Resolução entra em vigor na data de sua aprovação, revogando-se as disposições em contrário.\n",
            "195 Sala das sessões plenárias, aos vinte e seis dias do mês de agosto de 2009.\n",
            "196 Ampara Ferreira de Barros Paiva Presidente Lindomar Resende Rodrigues Vice-Presidente Ana Rita Marcelo de Castro Secretária-geral André Luiz Alves Villar Divina Aparecida Crispim de Souza Stival Flávio Leandro de Souza Hilda Maria Alvarenga Iêda Leal de Souza Martins José Agtônio Guedes Dantas Ludimila Helizabet Barbosa Naves Maria Rachel Leone Furtado Marinalva da Conceição Victor Wilson Sodré de Oliveira CONSELHO MUNICIPAL DE EDUCAÇÃORESOLUÇÃOCME Nº. 155, de 26 de agosto de 2009.\n",
            "197 Concede Autorização de Funcionamento e dá outras providências.\n",
            "198 O CONSELHO MUNICIPAL DE EDUCAÇÃO DE GOIÂNIA, com fundamento nos Arts. 238 e 239 e incisos da Lei Orgânica do Município, no artigo 1º, no artigo 6º e suas alíneas da Lei de sua Criação Nº. 7.771, de 29 de dezembro de 1997, no artigo 1º e no artigo 2º com seus respectivos incisos e alíneas do seu Regimento, tendo por base o Parecer-CME Nº. 052/09 e de acordo com a solicitação constante do Processo CME Nº. 29906599/06,Resolve artigo 1° Conceder Autorização de Funcionamento para a Escola Cultura Arte e Cidadania, localizada na Rua Padre Manoel da CONSELHO MUNICIPAL DE EDUCAÇÃO Processo SME N°. 33433344de: 22-1-2008 Interessado(a): Secretaria Municipal de Educação Assunto: Proposta Político-Pedagógica para as Escolas Rurais do Município de Goiânia.\n",
            "199 Informação Técnica AT/CME N°. 101/2009de: 30-6-2009Data da análise: 24-8-2009Sessão plenária CME N°. 083/2009DELIBERAÇÃO PLENÁRIA Na sessão plenária do dia 24-8-2009, considerando o contido nos autos e o expresso na Informação Técnica AT/CME N°. 101/09, este Conselho Pleno deliberou o seguinte sobre o assunto em pauta:- aprovar a Proposta Político-Pedagógica para as Escolas Rurais do Município de Goiânia, no período de 22-01-2008 a 31-12-2010.\n",
            "200 Ampara Ferreira de Barros Paiva Presidente Lindomar Resende Rodrigues- Vice-Presidente Ana Rita Marcelo de Castro-Secretária-geral André Luiz Alves Villar Divina Aparecida Crispim de Souza Stival Flávio Leandro de Souza Hilda Maria Alvarenga Iêda Leal de Souza Martins José Agtônio Guedes Dantas Ludimila Helizabet Barbosa Naves Maria Rachel Leone Furtado Marinalva da Conceição Victor Wilson Sodré de Oliveira CONSELHO MUNICIPAL DE EDUCAÇÃORESOLUÇÃOCME Nº. 154, de 26 de agosto de 2009.\n",
            "201 Aprova a 1ª edição de Projeto de Curso e dá outras providências.\n",
            "202 O CONSELHO MUNICIPAL DE EDUCAÇÃO DE GOIÂNIA, com fundamento nos Arts. 238 e 239 e incisos da Lei Orgânica do Município, no artigo 1º, no artigo 6º e suas alíneas da Lei de sua Criação Nº. 7.771, de 29 de dezembro de 1997, no artigo 1º e no artigo 2º com seus incisos e alíneas do seu Regimento, tendo por base o N° 4.861Sexta-feira14/05/2010\n",
            "203 Diário Oficial do Município Página 14agrupamentos de crianças de três a cinco anos de idade, desenvolvida pela Escola Escrevivendo, localizada na Rua T-37, Nº. 2.798, Quadra 120, Lote 12, Setor Bueno, nesta Capital, com nome empresarial Escola Escrevivendo Ltda, no período de 1º-01-2008 a 31-12-2012. artigo 2° O Reconhecimento a que se refere esta Resolução é válido somente para a Escola mencionada e localizada, conforme o estabelecido no artigo 1º. artigo 3° Aprovar, nos termos nele propostos, o Regimento Escolar da Instituição citada no artigo 1º desta. artigo 4° Homologar, nos termos em que foi elaborado, o Projeto Político-Pedagógico, incluindo a Programação Curricular para a Educação Infantil, da Escola citada no artigo 1º desta, com vigência a partir de sua aprovação pela comunidade escolar. artigo 5° Esta Resolução entra em vigor na data de sua aprovação, revogando-se as disposições em contrário.\n",
            "204 Sala das sessões plenárias, aos vinte e seis dias do mês de agosto de 2009.\n",
            "205 Ampara Ferreira de Barros Paiva Presidente Lindomar Resende Rodrigues Vice-Presidente Ana Rita Marcelo de Castro Secretária-geral André Luiz Alves Villar Divina Aparecida Crispim de Souza Stival Flávio Leandro de Souza Hilda Maria Alvarenga Iêda Leal de Souza Martins José Agtônio Guedes Dantas Ludimila Helizabet Barbosa Naves Maria Rachel Leone Furtado Marinalva da Conceição Victor Wilson Sodré de Oliveira CONSELHO MUNICIPAL DE EDUCAÇÃORESOLUÇÃOCME Nº. 157, de 26 de agosto de 2009.\n",
            "206 Concede Reconhecimento da Educação Infantil e dá outras providências.\n",
            "207 O CONSELHO MUNICIPAL DE EDUCAÇÃO DE GOIÂNIA, com fundamento nos Arts. 238 e 239 e incisos da Lei Orgânica do Município, no artigo 1º, no artigo 6º e suas alíneas da Lei de sua Criação Nº. 7.771, de 29 de dezembro de 1997, no artigo 1º e no artigo 2º com seus incisos e alíneas do seu Regimento, tendo por base o Parecer-AT/CME Nº. 004/08, a Informação Técnica-AT/CME Nº. 100/09 e de acordo com a solicitação contida no Processo SME Nº. 29933138/06.\n",
            "208 Resolve artigo 1° Conceder o Reconhecimento da Educação Infantil Costa N°. 149, Quadra 233, Lote 18, Bairro Cidade Jardim, nesta Capital, com o nome empresarial Escola Infantil M e M Ltda.\n",
            "209 ME, desenvolver a Educação Infantilagrupamentos de crianças de três a cinco anos de idade, no período de 15-9-2006 a 31-12-2010. artigo 2° A Autorização de Funcionamento a que se refere esta Resolução é válida somente para a Instituição mencionada e localizada, conforme o estabelecido no artigo 1º. artigo 3° Aprovar, nos termos nele propostos, o Regimento Escolar da Instituição citada no artigo 1° desta Resolução. artigo 4° Homologar, nos termos em que foi elaborado, o Projeto Político-Pedagógico, incluindo a Programação Curricular para Educação Infantil da Instituição citada no artigo 1º desta Resolução, com vigência a partir de sua aprovação pela comunidade escolar. artigo 5° Esta Resolução entra em vigor na data de sua aprovação, revogando-se as disposições em contrário.\n",
            "210 Sala das sessões plenárias, aos vinte e seis dias do mês de agosto de 2009.\n",
            "211 Ampara Ferreira de Barros Paiva Presidente Lindomar Resende Rodrigues- Vice Presidente Ana Rita Marcelo de Castro Secretário-Geral André Luiz Alves Villar Divina Aparecida Crispim de Souza Stival Flávio Leandro de Souza Hilda Maria Alvarenga Iêda Leal de Souza Martins José Agtônio Guedes Dantas Ludmilla Helizabet Maria Rachel Leone Furtado Marinalva Conceição Victor Wilson Sodré de Oliveira CONSELHO MUNICIPAL DE EDUCAÇÃORESOLUÇÃOCME Nº. 156, de 26 de agosto de 2009.\n",
            "212 Concede Reconhecimento da Educação Infantil e dá outras providências.\n",
            "213 O CONSELHO MUNICIPAL DE EDUCAÇÃO DE GOIÂNIA, com fundamento nos Arts. 238 e 239 e incisos da Lei Orgânica do Município, no artigo 1º, no artigo 6º e suas alíneas da Lei de sua Criação Nº. 7.771, de 29 de dezembro de 1997, no artigo 1º e no artigo 2º com seus respectivos incisos e alíneas do seu Regimento, tendo por base o Parecer-CME Nº. 179/08, a Informação AT/CME Nº. 099/09 e de acordo com a solicitação contida no Processo-SME Nº. 32589707/07.\n",
            "214 Resolve artigo 1° Conceder o Reconhecimento da Educação Infantil N° 4.861Sexta-feira14/05/2010\n",
            "215 Diário Oficial do Município Página 152º com seus incisos e alíneas do seu Regimento, tendo como base o Parecer AT/CME Nº. 057/09 e de acordo com a solicitação contida no Processo SME Nº. 32423957/07.\n",
            "216 Resolve artigo 1° Conceder o Reconhecimento da Educação Infantilagrupamentos de crianças de três a cinco anos de idade, desenvolvida pela E I C I Escola Integrada Centro de Interesse, localizada na Rua Marselha Nº. 826, Quadra 97, Lote 03, Setor Jardim Europa, nesta Capital, mantida pela empresa EICI Escola Integrada Centro de Interesse Ltda., no período de 1º-01-2008 a 31-12-2012. artigo 2° O Reconhecimento a que se refere esta Resolução é válido somente para a Instituição mencionada e localizada, conforme o estabelecido no artigo 1º. artigo 3° Aprovar, nos termos nele propostos, o Regimento Escolar da Instituição citada no artigo 1º desta Resolução. artigo 4° Homologar, nos termos em que foi elaborado, o Projeto Político-Pedagógico, incluindo a Programação Curricular para a Educação Infantil da Instituição citada no artigo 1º desta Resolução, a partir de sua aprovação pela comunidade escolar. artigo 5° Esta Resolução entra em vigor na data de sua aprovação, revogando-se as disposições em contrário.\n",
            "217 Sala das sessões plenárias, aos vinte e seis dias do mês de agosto de 2009.\n",
            "218 Ampara Ferreira de Barros Paiva Presidente Lindomar Resende Rodrigues Vice-Presidente Ana Rita Marcelo de Castro Secretária-geral André Luiz Alves Villar Divina Aparecida Crispim de Souza Stival Flávio Leandro de Souza Hilda Maria Alvarenga Iêda Leal de Souza Martins José Agtônio Guedes Dantas Ludimila Helizabet Barbosa Naves Maria Rachel Leone Furtado Marinalva da Conceição Victor Wilson Sodré de Oliveira CONSELHO MUNICIPAL DE EDUCAÇÃORESOLUÇÃOCME Nº. 159, de 26 de agosto de 2009.\n",
            "219 Concede Renovação de Reconhecimento do Ensino Fundamental e dá outras providências.\n",
            "220 O CONSELHO MUNICIPAL DE EDUCAÇÃO DE GOIÂNIA, com fundamento nos Arts. 238 e 239 e incisos da Lei Orgânica do Município, no artigo 1º, no artigo 6º e suas alíneas da Lei de sua Criação Nº. 7.771, de 29 de dezembro de 1997, no artigo 1º e no artigo agrupamentos de crianças de quatro e cinco anos de idade, desenvolvida pela Escola Estrelinha Mágica, mantida pela Empresa Escola Estrelinha Mágica Ltda., localizada na Avenida Comercial, Quadra 32, Lote 6, Conjunto Primavera, nesta Capital no período de 1º-01-2007 a 31-12-2011. artigo 2° Conceder, em caráter especial, Autorização de Funcionamento para a Escola citada no artigo 1º desta Resolução desenvolver a Educação Infantilagrupamentos de crianças de três anos de idade no período de 1º-01-2006 a 31-12-2011. artigo 3° Os atos autorizatórios a que se refere esta Resolução são válidos somente para a Instituição mencionada e localizada, conforme o estabelecido no artigo 1º. artigo 4° Aprovar, nos termos nela propostos, a Emenda Regimental da Instituição citada no artigo 1º desta Resolução. artigo 5° Homologar, nos termos em que foram elaborados, o Projeto Político- Pedagógico e a Programação Curricular para a Educação Infantil da Instituição citada no artigo 1º desta resolução, a partir de sua aprovação pela comunidade escolar. artigo 6° Esta Resolução entra em vigor na data de sua aprovação, revogando-se as disposições em contrário.\n",
            "221 Sala das sessões plenárias, aos vinte e seis dias do mês de agosto de 2009.\n",
            "222 Ampara Ferreira de Barros Paiva Presidente Lindomar Resende Rodrigues Vice-Presidente Ana Rita Marcelo de Castro Secretária-geral André Luiz Alves Villar Divina Aparecida Crispim de Souza Stival Flávio Leandro de Souza Hilda Maria Alvarenga Iêda Leal de Souza Martins José Agtônio Guedes Dantas Ludimila Helizabet Barbosa Naves Maria Rachel Leone Furtado Marinalva da Conceição Victor Wilson Sodré de Oliveira CONSELHO MUNICIPAL DE EDUCAÇÃORESOLUÇÃOCME Nº. 158, de 26 de agosto de 2009.\n",
            "223 Concede Reconhecimento da Educação Infantil e dá outras providências.\n",
            "224 O CONSELHO MUNICIPAL DE EDUCAÇÃO DE GOIÂNIA, com fundamento nos Arts. 238 e 239 e incisos da Lei Orgânica do Município, no artigo 1º, no artigo 6º e suas alíneas da Lei de sua Criação Nº. 7.771, de 29 de dezembro de 1997, no artigo 1º e no artigo N° 4.861Sexta-feira14/05/2010\n",
            "225 Diário Oficial do Município Página 16Orgânica do Município, no artigo 1º, no artigo 6º e suas alíneas da Lei de sua Criação Nº. 7.771, de 29 de dezembro de 1997, no artigo 1º e no artigo 2º com seus incisos e alíneas do seu Regimento, tendo como base o Parecer AT/CME Nº. 012/09, e de acordo com a solicitação contida no processo SME Nº. 32955240/07.\n",
            "226 Resolve artigo 1° Conceder Renovação de Reconhecimento do Ensino Fundamental Ciclos I, II, III e EAJA1ª à 8ª série à Escola Municipal Bárbara de Souza Morais, localizada na Avenida Uruguaiana Nº.42, Setor Jardim Novo Mundo, nesta Capital, no período de 1º-01-2008 a 31-12-2012. artigo 2° O ato autorizador a que se refere esta Resolução é válido somente para a Instituição citada e localizada conforme estabelecido no artigo 1º. artigo 3° Homologar, nos termos em que foi elaborado, o Projeto Político-Pedagógico da Escola citada no artigo 1º desta Resolução, com vigência a partir de sua aprovação pela comunidade escolar. artigo 4° Esta Resolução entra em vigor na data de sua aprovação, revogando-se as disposições em contrário.\n",
            "227 Sala das sessões plenárias, aos vinte e seis dias do mês de agosto de 2009.\n",
            "228 Ampara Ferreira de Barros Paiva Presidente Lindomar Resende Rodrigues Vice-Presidente Ana Rita Marcelo de Castro Secretária-geral André Luiz Alves Villar Divina Aparecida Crispim de Souza Stival Flávio Leandro de Souza Hilda Maria Alvarenga Iêda Leal de Souza Martins José Agtônio Guedes Dantas Ludimila Helizabet Barbosa Naves Maria Rachel Leone Furtado Marinalva da Conceição Victor Wilson Sodré de Oliveira CONSELHO MUNICIPAL DE EDUCAÇÃORESOLUÇÃOCME Nº. 161, de 31 de agosto de 2009.\n",
            "229 Concede Autorização de Funcionamento e dá outras providências.\n",
            "230 O CONSELHO MUNICIPAL DE EDUCAÇÃO DE GOIÂNIA, com fundamento nos Arts. 238 e 239 e incisos da Lei Orgânica do Município, no artigo 1º, no artigo 6º e suas alíneas da Lei de sua Criação Nº. 7.771, de 29 de dezembro de 1997, no artigo 1º e no artigo 2º com seus incisos e alíneas do seu Regimento, tendo por base o Parecer-AT/CME Nº. 014/09 e de acordo com a solicitação contida no Processo SME Nº. 32892094/07, Resolve artigo 1° Conceder a Renovação de Reconhecimento do ensino Fundamental Ciclos I, II, III e EAJA5ª à 8ª série, ministrado pela Escola Municipal Rui Barbosa, localizada na Rua P-34, Nº. 40, Setor dos Funcionários, nesta capital, no período de 1º-1-2007 a 31-12-2011. artigo 2° Autorizar a Escola citada no artigo 1º desta Resolução a desenvolver a Educação Infantilagrupamentos de crianças de cinco anos de idade, no período de 1º-1-2007 a 31-12-2011. artigo 3° Os atos autorizadores a que se refere esta Resolução são válidos somente para a Escola mencionada e localizada, conforme o estabelecido no artigo 1º. artigo 4° Homologar, nos termos em que foi elaborado, o Projeto Político-Pedagógico da Instituição citada no artigo 1º desta Resolução, com vigência a partir de sua aprovação pela comunidade escolar. artigo 5° Esta Resolução entra em vigor na data de sua aprovação, revogando-se as disposições em contrário.\n",
            "231 Sala das sessões plenárias, aos vinte e seis dias do mês de agosto de 2009.\n",
            "232 Ampara Ferreira de Barros Paiva Presidente Lindomar Resende Rodrigues Vice-Presidente Ana Rita Marcelo de Castro Secretária-geral André Luiz Alves Villar Divina Aparecida Crispim de Souza Stival Flávio Leandro de Souza Hilda Maria Alvarenga Iêda Leal de Souza Martins José Agtônio Guedes Dantas Ludimila Helizabet Barbosa Naves Maria Rachel Leone Furtado Marinalva da Conceição Victor Wilson Sodré de Oliveira CONSELHO MUNICIPAL DE EDUCAÇÃORESOLUÇÃOCME Nº. 160, de 26 de agosto de 2009.\n",
            "233 Concede Renovação de Reconhecimento do Ensino Fundamental e dá outras providências.\n",
            "234 O CONSELHO MUNICIPAL DE EDUCAÇÃO DE GOIÂNIA, com fundamento nos Arts. 238 e 239 e incisos da Lei N° 4.861Sexta-feira14/05/2010\n",
            "235 Diário Oficial do Município Página 17Escola Infantil Rumo à Vitória, localizada na Rua SC 28, S/N, Quadra. 24, Lotes. 05 e 06, Bairro São Carlos, nesta Capital, com nome empresarial Eliene Gomes da Rocha Jesus para desenvolver a Educação Infantilagrupamentos de crianças de três anos de idade, no período de 13-9-2008 a 31-12-2011. artigo 2° Conceder o Reconhecimento da Educação Infantil desenvolvida pela Escola citada no artigo 1º desta Resolução da seguinte forma:- agrupamentos de crianças de quatro a seis anos de idade, no período de 1º-01-2004 a 31-12-2005;- agrupamentos de crianças de quatro e cinco anos de idade, no período de 1°-01-2006 a 31-12-2011. artigo 3° Os atos autorizatórios a que se refere esta Resolução são válidos somente para a Instituição mencionada e localizada, conforme o artigo 1º desta. artigo 4° Aprovar, nos termos nele propostos, o Regimento Escolar da Instituição citada no artigo 1º desta Resolução. artigo 5° Homologar, nos termos em que foi elaborada, a Proposta Político-Pedagógica incluindo a Organização Curricular para a Educação Infantil da Instituição citada no artigo 1º desta Resolução, a partir de sua aprovação pela comunidade escolar. artigo 6° Esta Resolução entra em vigor na data de sua aprovação, revogando-se as disposições em contrário.\n",
            "236 Sala das sessões plenárias, aos dois dias do mês de setembro de 2009.\n",
            "237 Ampara Ferreira de Barros Paiva Presidente Lindomar Resende Rodrigues Vice-Presidente Ana Rita Marcelo de Castro Secretária-geral André Luiz Alves Villar Divina Aparecida Crispim de Souza Stival Flávio Leandro de Souza Hilda Maria Alvarenga Iêda Leal de Souza Martins José Agtônio Guedes Dantas Ludimila Helizabet Barbosa Naves Maria Rachel Leone Furtado Marinalva da Conceição Victor Wilson Sodré de Oliveira SECRETARIA MUNICIPAL DE EDUCAÇÃOTERMO DE HOMOLOGAÇÃO E ADJUDICAÇÃON°. 012/2010A Secretária Municipal de Educação no uso de suas atribuições legais, tendo em vista a Ata de Julgamento da Comissão 2º com seus respectivos incisos e alíneas do seu Regimento, tendo por base o Parecer-AT/CME Nº. 062/09 e de acordo com a solicitação contida no Processo-SME Nº. 36796600/09,Resolve artigo 1° Conceder Autorização de Funcionamento para Unidade Renascer Centro de Apoio à Prevenção, Diagnóstico e Reabilitação das Deficiências, localizada na Avenida A Nº. 561, Quadra O, Lote 1E, Setor Leste Vila Nova, nesta Capital, mantida pela Sociedade Pestalozzi de Goiânia, desenvolver o Atendimento Educacional Especializado na Educação Infantilagrupamentos de crianças de zero a cinco anos de idade, no período de 17-02-2009 a 31-12-2013. artigo 2° A Autorização a que se refere esta Resolução é válida somente para a Instituição mencionada e localizada, conforme estabelecido no artigo 1º desta. artigo 3° Esta Resolução entra em vigor na data de sua aprovação, revogando-se as disposições em contrário.\n",
            "238 Sala das sessões plenárias, aos trinta e um dias do mês de agosto de 2009.\n",
            "239 Ampara Ferreira de Barros Paiva Presidente Lindomar Resende Rodrigues Vice-Presidente Ana Rita Marcelo de Castro Secretária-geral André Luiz Alves Villar Divina Aparecida Crispim de Souza Stival Flávio Leandro de Souza Hilda Maria Alvarenga Iêda Leal de Souza Martins José Agtônio Guedes Dantas Ludimila Helizabet Barbosa Naves Maria Rachel Leone Furtado Marinalva da Conceição Victor Wilson Sodré de Oliveira CONSELHO MUNICIPAL DE EDUCAÇÃORESOLUÇÃOCME Nº. 162, de 02 de setembro de 2009.\n",
            "240 Concede Autorização de Funcionamento e dá outras providências.\n",
            "241 O CONSELHO MUNICIPAL DE EDUCAÇÃO DE GOIÂNIA, com fundamento nos Arts. 238 e 239 e incisos da Lei Orgânica do Município, no artigo 1º, no artigo 6º e suas alíneas da Lei de sua Criação Nº. 7.771, de 29 de dezembro de 1997, no artigo 1º e no artigo 2º com seus incisos e alíneas do seu Regimento, tendo como base o Parecer AT/CME Nº. 065/09, e de acordo com a solicitação contida no processo CME Nº. 32499783/07.\n",
            "242 Resolve artigo 1° Conceder Autorização de Funcionamento para a N° 4.861Sexta-feira14/05/2010TERMO DE HOMOLOGAÇÃO\n",
            "243 Diário Oficial do Município Página 18constantes nos artigos 281, inciso II e 282 da Lei n°9. 503, de 23 de setembro de 1997 (Código de Trânsito Brasileiro) e a Resolução n°006/2002, do CETRANGO notifica os proprietários e/ou condutores de veículos abaixo relacionados, por não terem sido localizados pelos correios, para apresentarem defesa prévia e/ ou recurso à JARI, relativos aos autos de infração a que se relacionam, assinalando o prazo de 30 (trinta) dias, a contar da publicação, para o exercício do direito constitucional de defesa.\n",
            "244 GABINETE DA PRESIDÊNCIA DA AGÊNCIA MUNICIPAL DE TRÂNSITO, TRANSPORTES E MOBILIDADE, aos 14 (quatorze) dias do mês de maio do ano de dois mil e dez (2010).\n",
            "245 Miguel Tiago da Silva Presidente-AMT Geral de Licitação (fl. 368) do Processo n°. 35418202/2008, resolve HOMOLOGAR o presente procedimento licitatório (Convite n° 003/2010) e ADJUDICAR a empresa: HEXAENGE ENGENHARIA E CONSTRUÇÕES LTDA, no valor de R$ 55.179,41 (cinqüenta e cinco mil, cento e setenta e nove reais e quarenta e um centavos) referente à execução de reforma e ampliação do CMEI Brisas da Mata, nesta Capital.\n",
            "246 Secretaria Municipal de Educação, aos dez dias do mês de maio de 2010.\n",
            "247 Márcia Pereira Carvalho Secretária Municipal de Educação COMDATA Termo de Homologação Pregão Presencial n° 105/2010CGLA Presidência da Comdata Companhia de Processamento de Dados do Município de Goiânia, no uso de suas atribuições legais, e conforme Edital, Ata de Realização, Ata de Adjudicação, e Aviso de Resultado da CGL, respectivamente, fls. 68/108, 134/135, 219, e 221, autos n° 40019359/10;Considerando a realização do processo licitatório, na modalidade de Pregão Presencial n° 105/2010CGL, referente à contratação de empresa para prestação de serviços de sistema de impressão de grande porte, conforme condições e especificações estabelecidas no Edital e seus Anexos, fls. 68/108:Resolve Homologar a presente licitação, com fulcro no artigo 43, inciso VI da Lei n° 8.666/93, da seguinte forma:No valor total de R$ 90.000,00 (noventa mil reais) à empresa Tiago Alves Falcão ME, CNPJ n° 05.506.933/0001-79.\n",
            "248 Goiânia, 12 de maio de 2010.\n",
            "249 Iram de Almeida Saraiva Júnior Presidente AGÊNCIA MUNICIPAL DE TRÂNSITO, TRANSPORTE E MOBILIDADENOTIFICAÇÃOO PRESIDENTE DA AGÊNCIA MUNICIPAL DE TRÂNSITO, TRANSPORTES E MOBILIDADE, no uso de suas atribuições legais e regimentais, tendo em vista as determinações SECRETARIA MUNICIPAL DA CULTURAN° 4.861Sexta-feira14/05/2010NOTIFICAÇÃORESULTADO\n",
            "250 Diário Oficial do Município Página 19Para tomar conhecimento do inteiro teor do Parecer, emitido pelo Centro de Seleção da UFG e acatado pela Comissão de Concurso, o candidato deverá comparecer à sede da Secretaria Municipal de Administração e Recursos Humanos, Rua 16, esq. c/ Rua 12, n°. 97, Edifício Capemi, Centro, das 8 às 17 horas.\n",
            "251 GABINETE DO SECRETÁRIO MUNICIPAL DE ADMINISTRAÇÃO E RECURSOS HUMANOS, aos 14 dias do mês de maio de 2010.\n",
            "252 EDSON ARAÚJO DE LIMA Secretário Municipal de Administração e Recursos Humanos SMARHCONCURSO PÚBLICO DA COMPANHIA METROPOLITANA DE TRANSPORTES COLETIVOSCMTCEDITAL N°. 001/2010COMUNICADO N° 08/2010RESULTADO PRELIMINAR DO CONCURSOO SECRETÁRIO MUNICIPAL DE ADMINISTRAÇÃO E RECURSOS HUMANOS, no uso de suas atribuições legais, considerando o disposto no Decreto n°. 3.915 de 28 de dezembro de 2001, bem como no Edital n°. 001/2010 da Companhia Metropolitana de Transportes Coletivos CMTC,COMUNICA que encontra-se disponível no site www.cmtc.concurso.goiania.go.gov.br e na sede da Secretaria Municipal de Administração e Recursos Humanos rua 16, esq. c/ Rua 12, n°. 97, Edifício Capemi, Centro, o Resultado Preliminar do Concurso, conforme Capítulo 11 do referido Edital.\n",
            "253 Esclarecimentos ainda poderão ser obtidos por meio dos telefones 08006460156 e 3524 2535.\n",
            "254 GABINETE DO SECRETÁRIO MUNICIPAL DE ADMINISTRAÇÃO E RECURSOS HUMANOS, aos 14 dias do mês de maio de 2010.\n",
            "255 EDSON ARAÚJO DE LIMA Secretário Municipal de Administração e Recursos Humanos SMARHCONCURSO PÚBLICO DA COMPANHIA METROPOLITANA DE TRANSPORTES COLETIVOSCMTCEDITAL N°. 001/2010COMUNICADO Nº 07/2010RESULTADO DOS RECURSOSPROVA OBJETIVAO SECRETÁRIO MUNICIPAL DE ADMINISTRAÇÃO E RECURSOS HUMANOS, no uso de suas atribuições legais, considerando o disposto no Decreto n°. 3.915 de 28 de dezembro de 2001, bem como no Edital n°. 001/2010 da Companhia Metropolitana de Transportes Coletivos CMTC,COMUNICA a decisão emitida sobre os recursos referentes à Prova Objetiva do Concurso Público da Companhia Metropolitana de Transportes Coletivos CMTC, realizada dia 02 de maio de 2010, conforme a seguir:N° 4.861Sexta-feira14/05/2010COMUNICADO\n",
            "256 Diário Oficial do Município N° 4.861Sexta-feira14/05/2010Página 20AMMAAUTO MECANICA DIBRAZ LTDA, torna público que requereu da Agência Municipal do Meio Ambiente de Goiânia AMMA, processo n° 33720424, a Licença Ambiental para Funcionamento para oficina mecânica e comércio de peças para veículos, situada na Avenida Feira de Santana, n° 904, Pq.\n",
            "257 Amazônia, Goiânia-GO.\n",
            "258 AMMAIPIRANGA PRODUTOS DE PETRÓLEO S A , torna público que requereu da Agência Municipal do Meio Ambiente de Goiânia- AMMA, processo n°. 40758488 a Licença para Desativação de Equipamentos, situado na Avenida São Francisco n° 700 Setor Santa Genoveva, Goiânia-GO.\n",
            "259 EDITAL DE COMUNICAÇÃO Tiragem: 200 exemplares Endereço: Avenida do Cerrado, 999A P M 09Parque Lozandes Goiânia GOCEP: 74.805-010Fone: 3524-1094Atendimento: das 08:00 às 12:00 horas das 14:00 às 18:00 horas Versão on line: A Atas, Balanços, Editais, Avisos, Tomadas de Preços, Concorrências Públicas, Extratos Contratuais e outras.\n",
            "260 B Assinaturas e Avulso ASSINATURA SEMESTRAL R$ 160,00 (sento e sessenta reais) VENDA AVULSA R$ 2,50 (dois reais e cinquenta centavos) PUBLICAÇÕES DIVERSAS R$ 20,00 (vinte reais) até 01 (uma) página, acima de 01(uma) página R$ 5,00 (cinco reais) por página ou fração; EDIÇÃO DO ORÇAMENTO ANUAL / 2010 R$ 10,00 (dez reais) EDIÇÃO DO PLANO DIRETOR R$ 34,00 (trinta e quatro reais)www.goiania.go.gov.br/governo DIÁRIO OFICIAL DO MUNICÍPIO Criado pela Lei N° 1.552, de 21/08/1959PUBLICAÇÕES/PREÇOS Multi Impressões PAULO DE SIQUEIRA GARCIA Prefeito de Goiânia OSMAR DE LIMA MAGALHÃES Secretário do governo municipal JAIRO DA CUNHA BASTOS Chefe do Gabinete de Expediente e Despacho PAULO GOUTHIER JÚNIOR Editor do Diário Oficial do Município Impressão e Acabamento:Diário Oficial Diário Oficial Diário Oficial Diário Oficial Diário Oficial\n"
          ]
        }
      ],
      "source": [
        "doc = 1\n",
        "for i, paragraph in enumerate(querido_diario_data['data'][doc]):\n",
        "    print(i, paragraph)"
      ]
    },
    {
      "cell_type": "markdown",
      "metadata": {
        "id": "GOPn5ooSgrKs"
      },
      "source": [
        "### Brute Force\n",
        "Ram is exploding"
      ]
    },
    {
      "cell_type": "code",
      "execution_count": null,
      "metadata": {
        "id": "3BqNSIBE7HHc"
      },
      "outputs": [],
      "source": [
        "def next_borders_list(borders_list: list, doc_len: int):\n",
        "    if borders_list[-1] < doc_len - 1:\n",
        "        borders_list[-1] += 1\n",
        "        return borders_list\n",
        "    else:\n",
        "        if len(borders_list) == 1: return -1\n",
        "        short_borders_list = next_borders_list(borders_list[:-1], doc_len - 1)\n",
        "        if short_borders_list == -1: return -1\n",
        "        return short_borders_list + [short_borders_list[-1] + 1]\n",
        "\n",
        "def generate_candidates(number_of_borders, doc_len):\n",
        "    assert number_of_borders < doc_len\n",
        "    borders_list = list(range(1, number_of_borders + 1))\n",
        "    candidates = []\n",
        "    while True:\n",
        "        candidates.append(borders_list)\n",
        "        borders_list = next_borders_list(borders_list, doc_len)\n",
        "        if borders_list == -1:\n",
        "            break\n",
        "    return candidates\n",
        "#candidates = generate_candidates(5, 768)"
      ]
    },
    {
      "cell_type": "markdown",
      "metadata": {
        "id": "kIV7U58tTnNd"
      },
      "source": [
        "# Arquivos quebrados\n",
        "procure a palavra licitação no arquivo 49a524c1e8d3274c32e0680b3c99b6b7e8c7a2ff.pdf"
      ]
    }
  ],
  "metadata": {
    "colab": {
      "collapsed_sections": [],
      "name": "Projeto Final Querido Diario",
      "provenance": []
    },
    "kernelspec": {
      "display_name": "Python 3",
      "name": "python3"
    },
    "widgets": {
      "application/vnd.jupyter.widget-state+json": {
        "510d12496a3e4ee0ad2efdb682ff3636": {
          "model_module": "@jupyter-widgets/controls",
          "model_name": "HBoxModel",
          "model_module_version": "1.5.0",
          "state": {
            "_view_name": "HBoxView",
            "_dom_classes": [],
            "_model_name": "HBoxModel",
            "_view_module": "@jupyter-widgets/controls",
            "_model_module_version": "1.5.0",
            "_view_count": null,
            "_view_module_version": "1.5.0",
            "box_style": "",
            "layout": "IPY_MODEL_f15283dc92764dc69c065c5ca8d96b3b",
            "_model_module": "@jupyter-widgets/controls",
            "children": [
              "IPY_MODEL_016c9aef17db48dd85fd908ffae8c310",
              "IPY_MODEL_f332133c5d0d4345a33fc56034d5b88c",
              "IPY_MODEL_124a9af72944457bb01f25ed03a57988"
            ]
          }
        },
        "f15283dc92764dc69c065c5ca8d96b3b": {
          "model_module": "@jupyter-widgets/base",
          "model_name": "LayoutModel",
          "model_module_version": "1.2.0",
          "state": {
            "_view_name": "LayoutView",
            "grid_template_rows": null,
            "right": null,
            "justify_content": null,
            "_view_module": "@jupyter-widgets/base",
            "overflow": null,
            "_model_module_version": "1.2.0",
            "_view_count": null,
            "flex_flow": null,
            "width": null,
            "min_width": null,
            "border": null,
            "align_items": null,
            "bottom": null,
            "_model_module": "@jupyter-widgets/base",
            "top": null,
            "grid_column": null,
            "overflow_y": null,
            "overflow_x": null,
            "grid_auto_flow": null,
            "grid_area": null,
            "grid_template_columns": null,
            "flex": null,
            "_model_name": "LayoutModel",
            "justify_items": null,
            "grid_row": null,
            "max_height": null,
            "align_content": null,
            "visibility": null,
            "align_self": null,
            "height": null,
            "min_height": null,
            "padding": null,
            "grid_auto_rows": null,
            "grid_gap": null,
            "max_width": null,
            "order": null,
            "_view_module_version": "1.2.0",
            "grid_template_areas": null,
            "object_position": null,
            "object_fit": null,
            "grid_auto_columns": null,
            "margin": null,
            "display": null,
            "left": null
          }
        },
        "016c9aef17db48dd85fd908ffae8c310": {
          "model_module": "@jupyter-widgets/controls",
          "model_name": "HTMLModel",
          "model_module_version": "1.5.0",
          "state": {
            "_view_name": "HTMLView",
            "style": "IPY_MODEL_e5d8b5e5a6bb4c37bbff19e10e218338",
            "_dom_classes": [],
            "description": "",
            "_model_name": "HTMLModel",
            "placeholder": "​",
            "_view_module": "@jupyter-widgets/controls",
            "_model_module_version": "1.5.0",
            "value": "100%",
            "_view_count": null,
            "_view_module_version": "1.5.0",
            "description_tooltip": null,
            "_model_module": "@jupyter-widgets/controls",
            "layout": "IPY_MODEL_ebfbec1e1d674cc7b0438bb39ad4ce04"
          }
        },
        "f332133c5d0d4345a33fc56034d5b88c": {
          "model_module": "@jupyter-widgets/controls",
          "model_name": "FloatProgressModel",
          "model_module_version": "1.5.0",
          "state": {
            "_view_name": "ProgressView",
            "style": "IPY_MODEL_97a044d494ba41978ba05a5c293d79be",
            "_dom_classes": [],
            "description": "",
            "_model_name": "FloatProgressModel",
            "bar_style": "success",
            "max": 1,
            "_view_module": "@jupyter-widgets/controls",
            "_model_module_version": "1.5.0",
            "value": 1,
            "_view_count": null,
            "_view_module_version": "1.5.0",
            "orientation": "horizontal",
            "min": 0,
            "description_tooltip": null,
            "_model_module": "@jupyter-widgets/controls",
            "layout": "IPY_MODEL_ad36b1ff79b94547a3767b5703733c3e"
          }
        },
        "124a9af72944457bb01f25ed03a57988": {
          "model_module": "@jupyter-widgets/controls",
          "model_name": "HTMLModel",
          "model_module_version": "1.5.0",
          "state": {
            "_view_name": "HTMLView",
            "style": "IPY_MODEL_a1bfedc03e9640d6b33c1de3ae548998",
            "_dom_classes": [],
            "description": "",
            "_model_name": "HTMLModel",
            "placeholder": "​",
            "_view_module": "@jupyter-widgets/controls",
            "_model_module_version": "1.5.0",
            "value": " 1/1 [00:00&lt;00:00,  4.66it/s]",
            "_view_count": null,
            "_view_module_version": "1.5.0",
            "description_tooltip": null,
            "_model_module": "@jupyter-widgets/controls",
            "layout": "IPY_MODEL_b4f667e6ece84d03bb8b2e60b60b5d75"
          }
        },
        "e5d8b5e5a6bb4c37bbff19e10e218338": {
          "model_module": "@jupyter-widgets/controls",
          "model_name": "DescriptionStyleModel",
          "model_module_version": "1.5.0",
          "state": {
            "_view_name": "StyleView",
            "_model_name": "DescriptionStyleModel",
            "description_width": "",
            "_view_module": "@jupyter-widgets/base",
            "_model_module_version": "1.5.0",
            "_view_count": null,
            "_view_module_version": "1.2.0",
            "_model_module": "@jupyter-widgets/controls"
          }
        },
        "ebfbec1e1d674cc7b0438bb39ad4ce04": {
          "model_module": "@jupyter-widgets/base",
          "model_name": "LayoutModel",
          "model_module_version": "1.2.0",
          "state": {
            "_view_name": "LayoutView",
            "grid_template_rows": null,
            "right": null,
            "justify_content": null,
            "_view_module": "@jupyter-widgets/base",
            "overflow": null,
            "_model_module_version": "1.2.0",
            "_view_count": null,
            "flex_flow": null,
            "width": null,
            "min_width": null,
            "border": null,
            "align_items": null,
            "bottom": null,
            "_model_module": "@jupyter-widgets/base",
            "top": null,
            "grid_column": null,
            "overflow_y": null,
            "overflow_x": null,
            "grid_auto_flow": null,
            "grid_area": null,
            "grid_template_columns": null,
            "flex": null,
            "_model_name": "LayoutModel",
            "justify_items": null,
            "grid_row": null,
            "max_height": null,
            "align_content": null,
            "visibility": null,
            "align_self": null,
            "height": null,
            "min_height": null,
            "padding": null,
            "grid_auto_rows": null,
            "grid_gap": null,
            "max_width": null,
            "order": null,
            "_view_module_version": "1.2.0",
            "grid_template_areas": null,
            "object_position": null,
            "object_fit": null,
            "grid_auto_columns": null,
            "margin": null,
            "display": null,
            "left": null
          }
        },
        "97a044d494ba41978ba05a5c293d79be": {
          "model_module": "@jupyter-widgets/controls",
          "model_name": "ProgressStyleModel",
          "model_module_version": "1.5.0",
          "state": {
            "_view_name": "StyleView",
            "_model_name": "ProgressStyleModel",
            "description_width": "",
            "_view_module": "@jupyter-widgets/base",
            "_model_module_version": "1.5.0",
            "_view_count": null,
            "_view_module_version": "1.2.0",
            "bar_color": null,
            "_model_module": "@jupyter-widgets/controls"
          }
        },
        "ad36b1ff79b94547a3767b5703733c3e": {
          "model_module": "@jupyter-widgets/base",
          "model_name": "LayoutModel",
          "model_module_version": "1.2.0",
          "state": {
            "_view_name": "LayoutView",
            "grid_template_rows": null,
            "right": null,
            "justify_content": null,
            "_view_module": "@jupyter-widgets/base",
            "overflow": null,
            "_model_module_version": "1.2.0",
            "_view_count": null,
            "flex_flow": null,
            "width": null,
            "min_width": null,
            "border": null,
            "align_items": null,
            "bottom": null,
            "_model_module": "@jupyter-widgets/base",
            "top": null,
            "grid_column": null,
            "overflow_y": null,
            "overflow_x": null,
            "grid_auto_flow": null,
            "grid_area": null,
            "grid_template_columns": null,
            "flex": null,
            "_model_name": "LayoutModel",
            "justify_items": null,
            "grid_row": null,
            "max_height": null,
            "align_content": null,
            "visibility": null,
            "align_self": null,
            "height": null,
            "min_height": null,
            "padding": null,
            "grid_auto_rows": null,
            "grid_gap": null,
            "max_width": null,
            "order": null,
            "_view_module_version": "1.2.0",
            "grid_template_areas": null,
            "object_position": null,
            "object_fit": null,
            "grid_auto_columns": null,
            "margin": null,
            "display": null,
            "left": null
          }
        },
        "a1bfedc03e9640d6b33c1de3ae548998": {
          "model_module": "@jupyter-widgets/controls",
          "model_name": "DescriptionStyleModel",
          "model_module_version": "1.5.0",
          "state": {
            "_view_name": "StyleView",
            "_model_name": "DescriptionStyleModel",
            "description_width": "",
            "_view_module": "@jupyter-widgets/base",
            "_model_module_version": "1.5.0",
            "_view_count": null,
            "_view_module_version": "1.2.0",
            "_model_module": "@jupyter-widgets/controls"
          }
        },
        "b4f667e6ece84d03bb8b2e60b60b5d75": {
          "model_module": "@jupyter-widgets/base",
          "model_name": "LayoutModel",
          "model_module_version": "1.2.0",
          "state": {
            "_view_name": "LayoutView",
            "grid_template_rows": null,
            "right": null,
            "justify_content": null,
            "_view_module": "@jupyter-widgets/base",
            "overflow": null,
            "_model_module_version": "1.2.0",
            "_view_count": null,
            "flex_flow": null,
            "width": null,
            "min_width": null,
            "border": null,
            "align_items": null,
            "bottom": null,
            "_model_module": "@jupyter-widgets/base",
            "top": null,
            "grid_column": null,
            "overflow_y": null,
            "overflow_x": null,
            "grid_auto_flow": null,
            "grid_area": null,
            "grid_template_columns": null,
            "flex": null,
            "_model_name": "LayoutModel",
            "justify_items": null,
            "grid_row": null,
            "max_height": null,
            "align_content": null,
            "visibility": null,
            "align_self": null,
            "height": null,
            "min_height": null,
            "padding": null,
            "grid_auto_rows": null,
            "grid_gap": null,
            "max_width": null,
            "order": null,
            "_view_module_version": "1.2.0",
            "grid_template_areas": null,
            "object_position": null,
            "object_fit": null,
            "grid_auto_columns": null,
            "margin": null,
            "display": null,
            "left": null
          }
        }
      }
    }
  },
  "nbformat": 4,
  "nbformat_minor": 0
}